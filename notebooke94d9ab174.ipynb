{
 "cells": [
  {
   "cell_type": "code",
   "execution_count": 1,
   "id": "ab038684",
   "metadata": {
    "execution": {
     "iopub.execute_input": "2025-01-22T19:53:33.618659Z",
     "iopub.status.busy": "2025-01-22T19:53:33.618300Z",
     "iopub.status.idle": "2025-01-22T19:53:33.623678Z",
     "shell.execute_reply": "2025-01-22T19:53:33.622710Z"
    },
    "papermill": {
     "duration": 0.009646,
     "end_time": "2025-01-22T19:53:33.624977",
     "exception": false,
     "start_time": "2025-01-22T19:53:33.615331",
     "status": "completed"
    },
    "tags": []
   },
   "outputs": [
    {
     "name": "stdout",
     "output_type": "stream",
     "text": [
      "test\n"
     ]
    }
   ],
   "source": [
    "print(\"test\")"
   ]
  }
 ],
 "metadata": {
  "kaggle": {
   "accelerator": "gpu",
   "dataSources": [],
   "isGpuEnabled": true,
   "isInternetEnabled": true,
   "language": "python",
   "sourceType": "notebook"
  },
  "kernelspec": {
   "display_name": "Python 3 (ipykernel)",
   "language": "python",
   "name": "python3"
  },
  "language_info": {
   "codemirror_mode": {
    "name": "ipython",
    "version": 3
   },
   "file_extension": ".py",
   "mimetype": "text/x-python",
   "name": "python",
   "nbconvert_exporter": "python",
   "pygments_lexer": "ipython3",
   "version": "3.10.12"
  },
  "papermill": {
   "default_parameters": {},
   "duration": 3.277875,
   "end_time": "2025-01-22T19:53:34.045827",
   "environment_variables": {},
   "exception": null,
   "input_path": "__notebook__.ipynb",
   "output_path": "__notebook__.ipynb",
   "parameters": {},
   "start_time": "2025-01-22T19:53:30.767952",
   "version": "2.6.0"
  }
 },
 "nbformat": 4,
 "nbformat_minor": 5
}
