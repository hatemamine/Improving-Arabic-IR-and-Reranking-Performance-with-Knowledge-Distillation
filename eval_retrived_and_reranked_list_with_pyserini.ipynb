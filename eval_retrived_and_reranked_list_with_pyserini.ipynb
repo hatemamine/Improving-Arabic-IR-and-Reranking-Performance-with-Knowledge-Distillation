{
  "metadata": {
    "kernelspec": {
      "language": "python",
      "display_name": "Python 3",
      "name": "python3"
    },
    "language_info": {
      "name": "python",
      "version": "3.10.14",
      "mimetype": "text/x-python",
      "codemirror_mode": {
        "name": "ipython",
        "version": 3
      },
      "pygments_lexer": "ipython3",
      "nbconvert_exporter": "python",
      "file_extension": ".py"
    },
    "kaggle": {
      "accelerator": "none",
      "dataSources": [],
      "dockerImageVersionId": 30786,
      "isInternetEnabled": true,
      "language": "python",
      "sourceType": "notebook",
      "isGpuEnabled": false
    },
    "colab": {
      "provenance": [],
      "include_colab_link": true
    }
  },
  "nbformat_minor": 0,
  "nbformat": 4,
  "cells": [
    {
      "cell_type": "markdown",
      "metadata": {
        "id": "view-in-github",
        "colab_type": "text"
      },
      "source": [
        "<a href=\"https://colab.research.google.com/github/hatemamine/Improving-Arabic-IR-and-Reranking-Performance-with-Knowledge-Distillation/blob/main/eval_retrived_and_reranked_list_with_pyserini.ipynb\" target=\"_parent\"><img src=\"https://colab.research.google.com/assets/colab-badge.svg\" alt=\"Open In Colab\"/></a>"
      ]
    },
    {
      "cell_type": "code",
      "source": [
        "# pyserini love java (install java)\n",
        "!sudo apt-get update\n",
        "!sudo apt-get install openjdk-21-jre -y\n",
        "!java -version\n",
        "!sudo  update-java-alternatives --list\n",
        "!export JAVA_HOME='/usr/lib/jvm/java-1.21.0-openjdk-amd64'\n",
        "import os\n",
        "# linux\n",
        "os.environ[\"JAVA_HOME\"] = \"/usr/lib/jvm/java-1.21.0-openjdk-amd64\"\n",
        "# installing pyserini\n",
        "#https://github.com/castorini/pyserini\n",
        "!python --version\n",
        "!pip install faiss-gpu -q\n",
        "!pip install pyserini -q\n",
        "# install numpy==1.26.4 to fix package conflit\n",
        "import numpy\n",
        "numpy.__version__\n",
        "#!pip show numpy\n",
        "!pip install --upgrade numpy==1.26.4"
      ],
      "metadata": {
        "_uuid": "8f2839f25d086af736a60e9eeb907d3b93b6e0e5",
        "_cell_guid": "b1076dfc-b9ad-4769-8c92-a6c4dae69d19",
        "execution": {
          "iopub.status.busy": "2025-02-13T08:34:59.055077Z",
          "iopub.execute_input": "2025-02-13T08:34:59.055422Z",
          "iopub.status.idle": "2025-02-13T08:36:40.401253Z",
          "shell.execute_reply.started": "2025-02-13T08:34:59.055388Z",
          "shell.execute_reply": "2025-02-13T08:36:40.399679Z"
        },
        "trusted": true,
        "colab": {
          "base_uri": "https://localhost:8080/"
        },
        "id": "hgZdquXXzGfH",
        "outputId": "d061d3dd-fa59-4799-f939-3981796ecc80"
      },
      "outputs": [
        {
          "output_type": "stream",
          "name": "stdout",
          "text": [
            "\r0% [Working]\r            \rGet:1 https://cloud.r-project.org/bin/linux/ubuntu jammy-cran40/ InRelease [3,632 B]\n",
            "Get:2 https://developer.download.nvidia.com/compute/cuda/repos/ubuntu2204/x86_64  InRelease [1,581 B]\n",
            "Hit:3 http://archive.ubuntu.com/ubuntu jammy InRelease\n",
            "Get:4 http://security.ubuntu.com/ubuntu jammy-security InRelease [129 kB]\n",
            "Get:5 https://r2u.stat.illinois.edu/ubuntu jammy InRelease [6,555 B]\n",
            "Get:6 http://archive.ubuntu.com/ubuntu jammy-updates InRelease [128 kB]\n",
            "Get:7 https://ppa.launchpadcontent.net/deadsnakes/ppa/ubuntu jammy InRelease [18.1 kB]\n",
            "Get:8 https://developer.download.nvidia.com/compute/cuda/repos/ubuntu2204/x86_64  Packages [1,312 kB]\n",
            "Hit:9 https://ppa.launchpadcontent.net/graphics-drivers/ppa/ubuntu jammy InRelease\n",
            "Get:10 http://archive.ubuntu.com/ubuntu jammy-backports InRelease [127 kB]\n",
            "Hit:11 https://ppa.launchpadcontent.net/ubuntugis/ppa/ubuntu jammy InRelease\n",
            "Get:12 https://r2u.stat.illinois.edu/ubuntu jammy/main all Packages [8,673 kB]\n",
            "Get:13 https://r2u.stat.illinois.edu/ubuntu jammy/main amd64 Packages [2,655 kB]\n",
            "Get:14 http://security.ubuntu.com/ubuntu jammy-security/main amd64 Packages [2,609 kB]\n",
            "Get:15 http://security.ubuntu.com/ubuntu jammy-security/restricted amd64 Packages [3,612 kB]\n",
            "Get:16 https://ppa.launchpadcontent.net/deadsnakes/ppa/ubuntu jammy/main amd64 Packages [34.0 kB]\n",
            "Get:17 http://archive.ubuntu.com/ubuntu jammy-updates/universe amd64 Packages [1,526 kB]\n",
            "Get:18 http://archive.ubuntu.com/ubuntu jammy-updates/main amd64 Packages [2,911 kB]\n",
            "Fetched 23.7 MB in 10s (2,346 kB/s)\n",
            "Reading package lists... Done\n",
            "W: Skipping acquire of configured file 'main/source/Sources' as repository 'https://r2u.stat.illinois.edu/ubuntu jammy InRelease' does not seem to provide it (sources.list entry misspelt?)\n",
            "Reading package lists... Done\n",
            "Building dependency tree... Done\n",
            "Reading state information... Done\n",
            "The following additional packages will be installed:\n",
            "  fonts-dejavu-core fonts-dejavu-extra libatk-wrapper-java\n",
            "  libatk-wrapper-java-jni libfontenc1 libxkbfile1 libxtst6 libxxf86dga1\n",
            "  openjdk-21-jre-headless x11-utils\n",
            "Suggested packages:\n",
            "  libnss-mdns fonts-ipafont-gothic fonts-ipafont-mincho fonts-wqy-microhei\n",
            "  | fonts-wqy-zenhei fonts-indic mesa-utils\n",
            "The following NEW packages will be installed:\n",
            "  fonts-dejavu-core fonts-dejavu-extra libatk-wrapper-java\n",
            "  libatk-wrapper-java-jni libfontenc1 libxkbfile1 libxtst6 libxxf86dga1\n",
            "  openjdk-21-jre openjdk-21-jre-headless x11-utils\n",
            "0 upgraded, 11 newly installed, 0 to remove and 21 not upgraded.\n",
            "Need to get 50.5 MB of archives.\n",
            "After this operation, 215 MB of additional disk space will be used.\n",
            "Get:1 http://archive.ubuntu.com/ubuntu jammy/main amd64 fonts-dejavu-core all 2.37-2build1 [1,041 kB]\n",
            "Get:2 http://archive.ubuntu.com/ubuntu jammy/main amd64 fonts-dejavu-extra all 2.37-2build1 [2,041 kB]\n",
            "Get:3 http://archive.ubuntu.com/ubuntu jammy/main amd64 libfontenc1 amd64 1:1.1.4-1build3 [14.7 kB]\n",
            "Get:4 http://archive.ubuntu.com/ubuntu jammy/main amd64 libxkbfile1 amd64 1:1.1.0-1build3 [71.8 kB]\n",
            "Get:5 http://archive.ubuntu.com/ubuntu jammy/main amd64 libxtst6 amd64 2:1.2.3-1build4 [13.4 kB]\n",
            "Get:6 http://archive.ubuntu.com/ubuntu jammy/main amd64 libxxf86dga1 amd64 2:1.1.5-0ubuntu3 [12.6 kB]\n",
            "Get:7 http://archive.ubuntu.com/ubuntu jammy/main amd64 x11-utils amd64 7.7+5build2 [206 kB]\n",
            "Get:8 http://archive.ubuntu.com/ubuntu jammy/main amd64 libatk-wrapper-java all 0.38.0-5build1 [53.1 kB]\n",
            "Get:9 http://archive.ubuntu.com/ubuntu jammy/main amd64 libatk-wrapper-java-jni amd64 0.38.0-5build1 [49.0 kB]\n",
            "Get:10 http://archive.ubuntu.com/ubuntu jammy-updates/universe amd64 openjdk-21-jre-headless amd64 21.0.6+7-1~22.04.1 [46.8 MB]\n",
            "Get:11 http://archive.ubuntu.com/ubuntu jammy-updates/universe amd64 openjdk-21-jre amd64 21.0.6+7-1~22.04.1 [233 kB]\n",
            "Fetched 50.5 MB in 2s (22.1 MB/s)\n",
            "debconf: unable to initialize frontend: Dialog\n",
            "debconf: (No usable dialog-like program is installed, so the dialog based frontend cannot be used. at /usr/share/perl5/Debconf/FrontEnd/Dialog.pm line 78, <> line 11.)\n",
            "debconf: falling back to frontend: Readline\n",
            "debconf: unable to initialize frontend: Readline\n",
            "debconf: (This frontend requires a controlling tty.)\n",
            "debconf: falling back to frontend: Teletype\n",
            "dpkg-preconfigure: unable to re-open stdin: \n",
            "Selecting previously unselected package fonts-dejavu-core.\n",
            "(Reading database ... 124926 files and directories currently installed.)\n",
            "Preparing to unpack .../00-fonts-dejavu-core_2.37-2build1_all.deb ...\n",
            "Unpacking fonts-dejavu-core (2.37-2build1) ...\n",
            "Selecting previously unselected package fonts-dejavu-extra.\n",
            "Preparing to unpack .../01-fonts-dejavu-extra_2.37-2build1_all.deb ...\n",
            "Unpacking fonts-dejavu-extra (2.37-2build1) ...\n",
            "Selecting previously unselected package libfontenc1:amd64.\n",
            "Preparing to unpack .../02-libfontenc1_1%3a1.1.4-1build3_amd64.deb ...\n",
            "Unpacking libfontenc1:amd64 (1:1.1.4-1build3) ...\n",
            "Selecting previously unselected package libxkbfile1:amd64.\n",
            "Preparing to unpack .../03-libxkbfile1_1%3a1.1.0-1build3_amd64.deb ...\n",
            "Unpacking libxkbfile1:amd64 (1:1.1.0-1build3) ...\n",
            "Selecting previously unselected package libxtst6:amd64.\n",
            "Preparing to unpack .../04-libxtst6_2%3a1.2.3-1build4_amd64.deb ...\n",
            "Unpacking libxtst6:amd64 (2:1.2.3-1build4) ...\n",
            "Selecting previously unselected package libxxf86dga1:amd64.\n",
            "Preparing to unpack .../05-libxxf86dga1_2%3a1.1.5-0ubuntu3_amd64.deb ...\n",
            "Unpacking libxxf86dga1:amd64 (2:1.1.5-0ubuntu3) ...\n",
            "Selecting previously unselected package x11-utils.\n",
            "Preparing to unpack .../06-x11-utils_7.7+5build2_amd64.deb ...\n",
            "Unpacking x11-utils (7.7+5build2) ...\n",
            "Selecting previously unselected package libatk-wrapper-java.\n",
            "Preparing to unpack .../07-libatk-wrapper-java_0.38.0-5build1_all.deb ...\n",
            "Unpacking libatk-wrapper-java (0.38.0-5build1) ...\n",
            "Selecting previously unselected package libatk-wrapper-java-jni:amd64.\n",
            "Preparing to unpack .../08-libatk-wrapper-java-jni_0.38.0-5build1_amd64.deb ...\n",
            "Unpacking libatk-wrapper-java-jni:amd64 (0.38.0-5build1) ...\n",
            "Selecting previously unselected package openjdk-21-jre-headless:amd64.\n",
            "Preparing to unpack .../09-openjdk-21-jre-headless_21.0.6+7-1~22.04.1_amd64.deb ...\n",
            "Unpacking openjdk-21-jre-headless:amd64 (21.0.6+7-1~22.04.1) ...\n",
            "Selecting previously unselected package openjdk-21-jre:amd64.\n",
            "Preparing to unpack .../10-openjdk-21-jre_21.0.6+7-1~22.04.1_amd64.deb ...\n",
            "Unpacking openjdk-21-jre:amd64 (21.0.6+7-1~22.04.1) ...\n",
            "Setting up openjdk-21-jre-headless:amd64 (21.0.6+7-1~22.04.1) ...\n",
            "update-alternatives: using /usr/lib/jvm/java-21-openjdk-amd64/bin/java to provide /usr/bin/java (java) in auto mode\n",
            "update-alternatives: using /usr/lib/jvm/java-21-openjdk-amd64/bin/jpackage to provide /usr/bin/jpackage (jpackage) in auto mode\n",
            "update-alternatives: using /usr/lib/jvm/java-21-openjdk-amd64/bin/keytool to provide /usr/bin/keytool (keytool) in auto mode\n",
            "update-alternatives: using /usr/lib/jvm/java-21-openjdk-amd64/bin/rmiregistry to provide /usr/bin/rmiregistry (rmiregistry) in auto mode\n",
            "update-alternatives: using /usr/lib/jvm/java-21-openjdk-amd64/lib/jexec to provide /usr/bin/jexec (jexec) in auto mode\n",
            "Setting up libxtst6:amd64 (2:1.2.3-1build4) ...\n",
            "Setting up libxxf86dga1:amd64 (2:1.1.5-0ubuntu3) ...\n",
            "Setting up openjdk-21-jre:amd64 (21.0.6+7-1~22.04.1) ...\n",
            "Setting up libfontenc1:amd64 (1:1.1.4-1build3) ...\n",
            "Setting up fonts-dejavu-core (2.37-2build1) ...\n",
            "Setting up fonts-dejavu-extra (2.37-2build1) ...\n",
            "Setting up libxkbfile1:amd64 (1:1.1.0-1build3) ...\n",
            "Setting up x11-utils (7.7+5build2) ...\n",
            "Setting up libatk-wrapper-java (0.38.0-5build1) ...\n",
            "Setting up libatk-wrapper-java-jni:amd64 (0.38.0-5build1) ...\n",
            "Processing triggers for fontconfig (2.13.1-4.2ubuntu5) ...\n",
            "Processing triggers for hicolor-icon-theme (0.17-2) ...\n",
            "Processing triggers for libc-bin (2.35-0ubuntu3.8) ...\n",
            "/sbin/ldconfig.real: /usr/local/lib/libtbbmalloc.so.2 is not a symbolic link\n",
            "\n",
            "/sbin/ldconfig.real: /usr/local/lib/libtbbbind.so.3 is not a symbolic link\n",
            "\n",
            "/sbin/ldconfig.real: /usr/local/lib/libhwloc.so.15 is not a symbolic link\n",
            "\n",
            "/sbin/ldconfig.real: /usr/local/lib/libtcm_debug.so.1 is not a symbolic link\n",
            "\n",
            "/sbin/ldconfig.real: /usr/local/lib/libur_adapter_opencl.so.0 is not a symbolic link\n",
            "\n",
            "/sbin/ldconfig.real: /usr/local/lib/libtbbmalloc_proxy.so.2 is not a symbolic link\n",
            "\n",
            "/sbin/ldconfig.real: /usr/local/lib/libur_loader.so.0 is not a symbolic link\n",
            "\n",
            "/sbin/ldconfig.real: /usr/local/lib/libtbbbind_2_5.so.3 is not a symbolic link\n",
            "\n",
            "/sbin/ldconfig.real: /usr/local/lib/libtcm.so.1 is not a symbolic link\n",
            "\n",
            "/sbin/ldconfig.real: /usr/local/lib/libur_adapter_level_zero.so.0 is not a symbolic link\n",
            "\n",
            "/sbin/ldconfig.real: /usr/local/lib/libumf.so.0 is not a symbolic link\n",
            "\n",
            "/sbin/ldconfig.real: /usr/local/lib/libtbbbind_2_0.so.3 is not a symbolic link\n",
            "\n",
            "/sbin/ldconfig.real: /usr/local/lib/libtbb.so.12 is not a symbolic link\n",
            "\n",
            "Processing triggers for man-db (2.10.2-1) ...\n",
            "Processing triggers for mailcap (3.70+nmu1ubuntu1) ...\n",
            "openjdk version \"21.0.6\" 2025-01-21\n",
            "OpenJDK Runtime Environment (build 21.0.6+7-Ubuntu-122.04.1)\n",
            "OpenJDK 64-Bit Server VM (build 21.0.6+7-Ubuntu-122.04.1, mixed mode, sharing)\n",
            "java-1.11.0-openjdk-amd64      1111       /usr/lib/jvm/java-1.11.0-openjdk-amd64\n",
            "java-1.21.0-openjdk-amd64      2111       /usr/lib/jvm/java-1.21.0-openjdk-amd64\n",
            "Python 3.11.11\n",
            "\u001b[31mERROR: Could not find a version that satisfies the requirement faiss-gpu (from versions: none)\u001b[0m\u001b[31m\n",
            "\u001b[0m\u001b[31mERROR: No matching distribution found for faiss-gpu\u001b[0m\u001b[31m\n",
            "\u001b[2K     \u001b[90m━━━━━━━━━━━━━━━━━━━━━━━━━━━━━━━━━━━━━━━━\u001b[0m \u001b[32m195.3/195.3 MB\u001b[0m \u001b[31m7.6 MB/s\u001b[0m eta \u001b[36m0:00:00\u001b[0m\n",
            "\u001b[?25h  Installing build dependencies ... \u001b[?25l\u001b[?25hdone\n",
            "  Getting requirements to build wheel ... \u001b[?25l\u001b[?25hdone\n",
            "  Preparing metadata (pyproject.toml) ... \u001b[?25l\u001b[?25hdone\n",
            "\u001b[2K   \u001b[90m━━━━━━━━━━━━━━━━━━━━━━━━━━━━━━━━━━━━━━━━\u001b[0m \u001b[32m13.3/13.3 MB\u001b[0m \u001b[31m90.8 MB/s\u001b[0m eta \u001b[36m0:00:00\u001b[0m\n",
            "\u001b[2K   \u001b[90m━━━━━━━━━━━━━━━━━━━━━━━━━━━━━━━━━━━━━━━━\u001b[0m \u001b[32m1.6/1.6 MB\u001b[0m \u001b[31m59.1 MB/s\u001b[0m eta \u001b[36m0:00:00\u001b[0m\n",
            "\u001b[2K   \u001b[90m━━━━━━━━━━━━━━━━━━━━━━━━━━━━━━━━━━━━━━━━\u001b[0m \u001b[32m1.2/1.2 MB\u001b[0m \u001b[31m50.4 MB/s\u001b[0m eta \u001b[36m0:00:00\u001b[0m\n",
            "\u001b[2K   \u001b[90m━━━━━━━━━━━━━━━━━━━━━━━━━━━━━━━━━━━━━━━━\u001b[0m \u001b[32m363.4/363.4 MB\u001b[0m \u001b[31m3.7 MB/s\u001b[0m eta \u001b[36m0:00:00\u001b[0m\n",
            "\u001b[2K   \u001b[90m━━━━━━━━━━━━━━━━━━━━━━━━━━━━━━━━━━━━━━━━\u001b[0m \u001b[32m13.8/13.8 MB\u001b[0m \u001b[31m61.8 MB/s\u001b[0m eta \u001b[36m0:00:00\u001b[0m\n",
            "\u001b[2K   \u001b[90m━━━━━━━━━━━━━━━━━━━━━━━━━━━━━━━━━━━━━━━━\u001b[0m \u001b[32m24.6/24.6 MB\u001b[0m \u001b[31m47.9 MB/s\u001b[0m eta \u001b[36m0:00:00\u001b[0m\n",
            "\u001b[2K   \u001b[90m━━━━━━━━━━━━━━━━━━━━━━━━━━━━━━━━━━━━━━━━\u001b[0m \u001b[32m883.7/883.7 kB\u001b[0m \u001b[31m28.3 MB/s\u001b[0m eta \u001b[36m0:00:00\u001b[0m\n",
            "\u001b[2K   \u001b[90m━━━━━━━━━━━━━━━━━━━━━━━━━━━━━━━━━━━━━━━━\u001b[0m \u001b[32m664.8/664.8 MB\u001b[0m \u001b[31m2.4 MB/s\u001b[0m eta \u001b[36m0:00:00\u001b[0m\n",
            "\u001b[2K   \u001b[90m━━━━━━━━━━━━━━━━━━━━━━━━━━━━━━━━━━━━━━━━\u001b[0m \u001b[32m211.5/211.5 MB\u001b[0m \u001b[31m6.3 MB/s\u001b[0m eta \u001b[36m0:00:00\u001b[0m\n",
            "\u001b[2K   \u001b[90m━━━━━━━━━━━━━━━━━━━━━━━━━━━━━━━━━━━━━━━━\u001b[0m \u001b[32m56.3/56.3 MB\u001b[0m \u001b[31m11.8 MB/s\u001b[0m eta \u001b[36m0:00:00\u001b[0m\n",
            "\u001b[2K   \u001b[90m━━━━━━━━━━━━━━━━━━━━━━━━━━━━━━━━━━━━━━━━\u001b[0m \u001b[32m127.9/127.9 MB\u001b[0m \u001b[31m8.5 MB/s\u001b[0m eta \u001b[36m0:00:00\u001b[0m\n",
            "\u001b[2K   \u001b[90m━━━━━━━━━━━━━━━━━━━━━━━━━━━━━━━━━━━━━━━━\u001b[0m \u001b[32m207.5/207.5 MB\u001b[0m \u001b[31m5.8 MB/s\u001b[0m eta \u001b[36m0:00:00\u001b[0m\n",
            "\u001b[2K   \u001b[90m━━━━━━━━━━━━━━━━━━━━━━━━━━━━━━━━━━━━━━━━\u001b[0m \u001b[32m21.1/21.1 MB\u001b[0m \u001b[31m52.9 MB/s\u001b[0m eta \u001b[36m0:00:00\u001b[0m\n",
            "\u001b[2K   \u001b[90m━━━━━━━━━━━━━━━━━━━━━━━━━━━━━━━━━━━━━━━━\u001b[0m \u001b[32m46.0/46.0 kB\u001b[0m \u001b[31m2.5 MB/s\u001b[0m eta \u001b[36m0:00:00\u001b[0m\n",
            "\u001b[2K   \u001b[90m━━━━━━━━━━━━━━━━━━━━━━━━━━━━━━━━━━━━━━━━\u001b[0m \u001b[32m86.8/86.8 kB\u001b[0m \u001b[31m5.4 MB/s\u001b[0m eta \u001b[36m0:00:00\u001b[0m\n",
            "\u001b[?25h  Building wheel for pyserini (pyproject.toml) ... \u001b[?25l\u001b[?25hdone\n",
            "Requirement already satisfied: numpy==1.26.4 in /usr/local/lib/python3.11/dist-packages (1.26.4)\n"
          ]
        }
      ],
      "execution_count": 1
    },
    {
      "cell_type": "code",
      "source": [
        "# 100 bm25 mr.Tydi\n",
        "!python -m pyserini.search.lucene \\\n",
        "  --threads 16 --batch-size 128 \\\n",
        "  --language ar \\\n",
        "  --topics mrtydi-v1.1-arabic-test \\\n",
        "  --index mrtydi-v1.1-ar \\\n",
        "  --output run.mrtydi.bm25.ar.test.txt --bm25 --hits 1000\n",
        "!python -m pyserini.eval.trec_eval \\\n",
        "  -c -m recip_rank.100 -m recall.10,100 mrtydi-v1.1-arabic-test \\\n",
        "  run.mrtydi.bm25.ar.test.txt\n",
        "!python -m pyserini.eval.trec_eval \\\n",
        "-c -m recip_rank.100 -m recall.10,1000 mrtydi-v1.1-arabic-test \\\n",
        "  run.mrtydi.bm25.ar.test.txt"
      ],
      "metadata": {
        "trusted": true,
        "execution": {
          "iopub.status.busy": "2025-02-13T08:37:53.874468Z",
          "iopub.execute_input": "2025-02-13T08:37:53.875067Z",
          "iopub.status.idle": "2025-02-13T08:40:44.722919Z",
          "shell.execute_reply.started": "2025-02-13T08:37:53.875014Z",
          "shell.execute_reply": "2025-02-13T08:40:44.721039Z"
        },
        "colab": {
          "base_uri": "https://localhost:8080/"
        },
        "id": "3Xh3xkqIzGfL",
        "outputId": "7857fdc8-13df-4d16-adb8-7e513c131f03"
      },
      "outputs": [
        {
          "output_type": "stream",
          "name": "stdout",
          "text": [
            "WARNING: Using incubator modules: jdk.incubator.vector\n",
            "2025-02-13 10:17:15.145184: E external/local_xla/xla/stream_executor/cuda/cuda_fft.cc:477] Unable to register cuFFT factory: Attempting to register factory for plugin cuFFT when one has already been registered\n",
            "WARNING: All log messages before absl::InitializeLog() is called are written to STDERR\n",
            "E0000 00:00:1739441835.541097    2088 cuda_dnn.cc:8310] Unable to register cuDNN factory: Attempting to register factory for plugin cuDNN when one has already been registered\n",
            "E0000 00:00:1739441835.646760    2088 cuda_blas.cc:1418] Unable to register cuBLAS factory: Attempting to register factory for plugin cuBLAS when one has already been registered\n",
            "2025-02-13 10:17:16.488981: I tensorflow/core/platform/cpu_feature_guard.cc:210] This TensorFlow binary is optimized to use available CPU instructions in performance-critical operations.\n",
            "To enable the following instructions: AVX2 FMA, in other operations, rebuild TensorFlow with the appropriate compiler flags.\n",
            "2025-02-13 10:17:26,070 INFO  [main] topicreader.TopicReader (TopicReader.java:229) - Downloading topics from https://raw.githubusercontent.com/castorini/anserini-tools/master/topics-and-qrels/topics.mrtydi-v1.1-ar.test.txt.gz\n",
            "Downloading index at https://rgw.cs.uwaterloo.ca/pyserini/indexes/lucene/lucene-inverted.mrtydi-v1.1-ar.20220928.b5ecc5.tar.gz...\n",
            "lucene-inverted.mrtydi-v1.1-ar.20220928.b5ecc5.tar.gz: 1.09GB [00:17, 66.7MB/s]                \n",
            "Feb 13, 2025 10:18:23 AM org.apache.lucene.store.MemorySegmentIndexInputProvider <init>\n",
            "INFO: Using MemorySegmentIndexInput with Java 21; to disable start with -Dorg.apache.lucene.store.MMapDirectory.enableMemorySegments=false\n",
            "Running mrtydi-v1.1-arabic-test topics, saving to run.mrtydi.bm25.ar.test.txt...\n",
            "100% 1081/1081 [01:36<00:00, 11.25it/s]\n",
            "Downloading qrels from https://raw.githubusercontent.com/castorini/anserini-tools/master/topics-and-qrels/qrels.mrtydi-v1.1-ar.test.txt\n",
            "recip_rank            \tall\t0.3687\n",
            "recall_10             \tall\t0.5631\n",
            "recall_100            \tall\t0.7928\n",
            "recip_rank            \tall\t0.3687\n",
            "recall_10             \tall\t0.5631\n",
            "recall_1000           \tall\t0.9055\n"
          ]
        }
      ],
      "execution_count": 2
    },
    {
      "cell_type": "markdown",
      "source": [
        "#zero-shot evaluation\n",
        "#mr.tydi\n",
        "https://castorini.github.io/pyserini/2cr/mrtydi.html\n",
        "https://github.com/castorini/mr.tydi"
      ],
      "metadata": {
        "id": "E-cFS-63zGfL"
      }
    },
    {
      "cell_type": "code",
      "source": [
        "from huggingface_hub import hf_hub_download\n",
        "organization_dataset_id= \"hatemestinbejaia/ExperimentDATA_knowledge_distillation_vs_fine_tuning\"\n",
        "#zero-shot evaluation reranked bm25-100 mr.Tydi\n",
        "hf_hub_download(repo_id=organization_dataset_id, filename=\"qrels.test.mrtydi.txt\", local_dir=\"./\", repo_type=\"dataset\")\n",
        "ranked_list_mrTydi=[\"mrtydi_reranked/mmarco-Arabic-mMiniLML-cross-encoder-KD-v1.tsvrun.mrtydi.bm25.ar.test.txt\", \"mrtydi_reranked/mmarco-Arabic-mMiniLML-cross-encoder-NoKD-v1.tsvrun.mrtydi.bm25.ar.test.txt\", \"mrtydi_reranked/mmarco-Arabic-AraDPR-cross-encoder-KD-v1_run.mrtydi.bm25.ar.test.txt\", \"mrtydi_reranked/mmarco-Arabic-AraDPR-cross-encoder-NoKD-v1_run.mrtydi.bm25.ar.test.txt\", \"mrtydi_reranked/mmarco-Arabic-AraElectra-cross-encoder-KD-v1_run.mrtydi.bm25.ar.test.txt\", \"mrtydi_reranked/mmarco-Arabic-AraElectra-cross-encoder-NoKD-v1_run.mrtydi.bm25.ar.test.txt\" ]\n",
        "for i in range(len(ranked_list_mrTydi)):\n",
        "    hf_hub_download(repo_id=organization_dataset_id, filename=ranked_list_mrTydi[i], local_dir=\"./\", repo_type=\"dataset\")\n",
        "for i in ranked_list_mrTydi:\n",
        "        print(\"*****************************************\")\n",
        "        print(i)\n",
        "        print(\"*****************************************\")\n",
        "        !python -m pyserini.eval.trec_eval  -c -m recip_rank.100 -m recall.100\\\n",
        "            qrels.test.mrtydi.txt \\\n",
        "            {i}\n",
        "        #break"
      ],
      "metadata": {
        "execution": {
          "iopub.status.busy": "2025-02-13T08:41:04.686521Z",
          "iopub.execute_input": "2025-02-13T08:41:04.687093Z",
          "iopub.status.idle": "2025-02-13T08:41:38.089991Z",
          "shell.execute_reply.started": "2025-02-13T08:41:04.687044Z",
          "shell.execute_reply": "2025-02-13T08:41:38.088299Z"
        },
        "trusted": true,
        "colab": {
          "referenced_widgets": [
            "5ae58ced3b6846e48ce498db20777f59",
            "4ce8a28ab2dc411aa6b12c68109e6f02",
            "e7a116fc609e4fff818b7e27f3f70e75",
            "de06a7fa1de54e128b07a1f0368ff9c2",
            "2b6cbe2de1d5497fb71c47a410d2b02c",
            "ba8d39e2165940bc856fed4a1423605d",
            "82da8a752e8244348549e29282692cf4"
          ]
        },
        "id": "QxpG091RzGfO",
        "outputId": "73b4b019-11e1-4575-cefa-5261469bdb46"
      },
      "outputs": [
        {
          "output_type": "display_data",
          "data": {
            "text/plain": "qrels.test.mrtydi.txt:   0%|          | 0.00/24.9k [00:00<?, ?B/s]",
            "application/vnd.jupyter.widget-view+json": {
              "version_major": 2,
              "version_minor": 0,
              "model_id": "5ae58ced3b6846e48ce498db20777f59"
            }
          },
          "metadata": {}
        },
        {
          "output_type": "display_data",
          "data": {
            "text/plain": "(…)der-KD-v1.tsvrun.mrtydi.bm25.ar.test.txt:   0%|          | 0.00/1.98M [00:00<?, ?B/s]",
            "application/vnd.jupyter.widget-view+json": {
              "version_major": 2,
              "version_minor": 0,
              "model_id": "4ce8a28ab2dc411aa6b12c68109e6f02"
            }
          },
          "metadata": {}
        },
        {
          "output_type": "display_data",
          "data": {
            "text/plain": "(…)r-NoKD-v1.tsvrun.mrtydi.bm25.ar.test.txt:   0%|          | 0.00/1.98M [00:00<?, ?B/s]",
            "application/vnd.jupyter.widget-view+json": {
              "version_major": 2,
              "version_minor": 0,
              "model_id": "e7a116fc609e4fff818b7e27f3f70e75"
            }
          },
          "metadata": {}
        },
        {
          "output_type": "display_data",
          "data": {
            "text/plain": "(…)ncoder-KD-v1_run.mrtydi.bm25.ar.test.txt:   0%|          | 0.00/1.98M [00:00<?, ?B/s]",
            "application/vnd.jupyter.widget-view+json": {
              "version_major": 2,
              "version_minor": 0,
              "model_id": "de06a7fa1de54e128b07a1f0368ff9c2"
            }
          },
          "metadata": {}
        },
        {
          "output_type": "display_data",
          "data": {
            "text/plain": "(…)oder-NoKD-v1_run.mrtydi.bm25.ar.test.txt:   0%|          | 0.00/1.98M [00:00<?, ?B/s]",
            "application/vnd.jupyter.widget-view+json": {
              "version_major": 2,
              "version_minor": 0,
              "model_id": "2b6cbe2de1d5497fb71c47a410d2b02c"
            }
          },
          "metadata": {}
        },
        {
          "output_type": "display_data",
          "data": {
            "text/plain": "(…)ncoder-KD-v1_run.mrtydi.bm25.ar.test.txt:   0%|          | 0.00/1.98M [00:00<?, ?B/s]",
            "application/vnd.jupyter.widget-view+json": {
              "version_major": 2,
              "version_minor": 0,
              "model_id": "ba8d39e2165940bc856fed4a1423605d"
            }
          },
          "metadata": {}
        },
        {
          "output_type": "display_data",
          "data": {
            "text/plain": "(…)oder-NoKD-v1_run.mrtydi.bm25.ar.test.txt:   0%|          | 0.00/1.98M [00:00<?, ?B/s]",
            "application/vnd.jupyter.widget-view+json": {
              "version_major": 2,
              "version_minor": 0,
              "model_id": "82da8a752e8244348549e29282692cf4"
            }
          },
          "metadata": {}
        },
        {
          "name": "stdout",
          "text": "*****************************************\nmrtydi_reranked/mmarco-Arabic-mMiniLML-cross-encoder-KD-v1.tsvrun.mrtydi.bm25.ar.test.txt\n*****************************************\nmsmarco run detected. Converting to trec...\nrecip_rank            \tall\t0.5149\nrecall_100            \tall\t0.7928\n*****************************************\nmrtydi_reranked/mmarco-Arabic-mMiniLML-cross-encoder-NoKD-v1.tsvrun.mrtydi.bm25.ar.test.txt\n*****************************************\nmsmarco run detected. Converting to trec...\nrecip_rank            \tall\t0.4927\nrecall_100            \tall\t0.7928\n*****************************************\nmrtydi_reranked/mmarco-Arabic-AraDPR-cross-encoder-KD-v1_run.mrtydi.bm25.ar.test.txt\n*****************************************\nmsmarco run detected. Converting to trec...\nrecip_rank            \tall\t0.5664\nrecall_100            \tall\t0.7928\n*****************************************\nmrtydi_reranked/mmarco-Arabic-AraDPR-cross-encoder-NoKD-v1_run.mrtydi.bm25.ar.test.txt\n*****************************************\nmsmarco run detected. Converting to trec...\nrecip_rank            \tall\t0.5509\nrecall_100            \tall\t0.7928\n*****************************************\nmrtydi_reranked/mmarco-Arabic-AraElectra-cross-encoder-KD-v1_run.mrtydi.bm25.ar.test.txt\n*****************************************\nmsmarco run detected. Converting to trec...\nrecip_rank            \tall\t0.5915\nrecall_100            \tall\t0.7928\n*****************************************\nmrtydi_reranked/mmarco-Arabic-AraElectra-cross-encoder-NoKD-v1_run.mrtydi.bm25.ar.test.txt\n*****************************************\nmsmarco run detected. Converting to trec...\nrecip_rank            \tall\t0.5840\nrecall_100            \tall\t0.7928\n",
          "output_type": "stream"
        }
      ],
      "execution_count": null
    },
    {
      "cell_type": "code",
      "source": [
        "from huggingface_hub import hf_hub_download\n",
        "#zero-shot evaluation first stage mr.Tydi\n",
        "hf_hub_download(repo_id=organization_dataset_id, filename=\"qrels.test.mrtydi.txt\", local_dir=\"./\", repo_type=\"dataset\")\n",
        "ranked_list_mrTydi=[\"FirstStage_mrTydi/FirstStagemrTydi-collection-arabic-embedding-KDaradpr.tsv\", \"FirstStage_mrTydi/FirstStagemrTydi-collection-arabic-embedding-NOKDaradpr.tsv\", \"FirstStage_mrTydi/FirstStagemrTydi-collection-arabic-embedding-mmarco-Arabic-AraElectra-bi-encoder-KD-v1.tsv\", \"FirstStage_mrTydi/FirstStagemrTydi-collection-arabic-embedding-mmarco-Arabic-AraElectra-bi-encoder-NoKD-v1.tsv\", \"FirstStage_mrTydi/FirstStagemrTydi-collection-arabic-embedding-mmarco-Arabic-mMiniLML-bi-encoder-KD-v1.tsv\", \"FirstStage_mrTydi/FirstStagemrTydi-collection-arabic-embedding-mmarco-Arabic-mMiniLML-bi-encoder-NoKD-v1.tsv\", \"FirstStagecombine.tsv\", \"FirstStagecombine1000.tsv\", \"mmarco-Arabic-AraElectra-cross-encoder-KD-v1_FirstStagecombine1000.tsv\", \"mmarco-Arabic-AraElectra-cross-encoder-KD-v1_run.mrtydi.bm25.ar.test1000.txt\" ]\n",
        "for i in range(len(ranked_list_mrTydi)):\n",
        "    hf_hub_download(repo_id=organization_dataset_id, filename=ranked_list_mrTydi[i], local_dir=\"./\", repo_type=\"dataset\")\n",
        "for i in ranked_list_mrTydi:\n",
        "        print(\"*****************************************\")\n",
        "        print(i)\n",
        "        print(\"*****************************************\")\n",
        "        !python -m pyserini.eval.trec_eval   -m  recip_rank.100 -m recall.100 \\\n",
        "            qrels.test.mrtydi.txt \\\n",
        "            {i}\n",
        "        #break"
      ],
      "metadata": {
        "trusted": true,
        "execution": {
          "iopub.status.busy": "2025-02-13T08:44:56.764089Z",
          "iopub.execute_input": "2025-02-13T08:44:56.764666Z",
          "iopub.status.idle": "2025-02-13T08:45:33.574174Z",
          "shell.execute_reply.started": "2025-02-13T08:44:56.764621Z",
          "shell.execute_reply": "2025-02-13T08:45:33.572283Z"
        },
        "colab": {
          "referenced_widgets": [
            "e3b51ba70ebc42bdab589989a691a292",
            "b59da9b933684b92a6ac3f32a8aec995",
            "b0fa8bbf09af49be8d80b6d53ba90177",
            "4a7b90e8d2a048539eb3a344a7e31937",
            "75743caa0c1546408eeb7b8d0801fb36",
            "1770bfac151b4c9cad99dbf417bd9f3d",
            "d45e36aa427c4a3db2a3adc5a48b94d6",
            "30a77abdadb04c00bd38df2af71b0288",
            "182b26a99a49458095201fee6224130a",
            "ecb14e5a73f84375b79d12e74b29cc66"
          ]
        },
        "id": "Bdb1dVlwzGfQ",
        "outputId": "fde3365c-e940-4d76-9677-8aa6298b859f"
      },
      "outputs": [
        {
          "output_type": "display_data",
          "data": {
            "text/plain": "(…)collection-arabic-embedding-KDaradpr.tsv:   0%|          | 0.00/21.2M [00:00<?, ?B/s]",
            "application/vnd.jupyter.widget-view+json": {
              "version_major": 2,
              "version_minor": 0,
              "model_id": "e3b51ba70ebc42bdab589989a691a292"
            }
          },
          "metadata": {}
        },
        {
          "output_type": "display_data",
          "data": {
            "text/plain": "(…)llection-arabic-embedding-NOKDaradpr.tsv:   0%|          | 0.00/2.02M [00:00<?, ?B/s]",
            "application/vnd.jupyter.widget-view+json": {
              "version_major": 2,
              "version_minor": 0,
              "model_id": "b59da9b933684b92a6ac3f32a8aec995"
            }
          },
          "metadata": {}
        },
        {
          "output_type": "display_data",
          "data": {
            "text/plain": "(…)o-Arabic-AraElectra-bi-encoder-KD-v1.tsv:   0%|          | 0.00/2.01M [00:00<?, ?B/s]",
            "application/vnd.jupyter.widget-view+json": {
              "version_major": 2,
              "version_minor": 0,
              "model_id": "b0fa8bbf09af49be8d80b6d53ba90177"
            }
          },
          "metadata": {}
        },
        {
          "output_type": "display_data",
          "data": {
            "text/plain": "(…)Arabic-AraElectra-bi-encoder-NoKD-v1.tsv:   0%|          | 0.00/2.01M [00:00<?, ?B/s]",
            "application/vnd.jupyter.widget-view+json": {
              "version_major": 2,
              "version_minor": 0,
              "model_id": "4a7b90e8d2a048539eb3a344a7e31937"
            }
          },
          "metadata": {}
        },
        {
          "output_type": "display_data",
          "data": {
            "text/plain": "(…)rco-Arabic-mMiniLML-bi-encoder-KD-v1.tsv:   0%|          | 0.00/2.01M [00:00<?, ?B/s]",
            "application/vnd.jupyter.widget-view+json": {
              "version_major": 2,
              "version_minor": 0,
              "model_id": "75743caa0c1546408eeb7b8d0801fb36"
            }
          },
          "metadata": {}
        },
        {
          "output_type": "display_data",
          "data": {
            "text/plain": "(…)o-Arabic-mMiniLML-bi-encoder-NoKD-v1.tsv:   0%|          | 0.00/2.01M [00:00<?, ?B/s]",
            "application/vnd.jupyter.widget-view+json": {
              "version_major": 2,
              "version_minor": 0,
              "model_id": "1770bfac151b4c9cad99dbf417bd9f3d"
            }
          },
          "metadata": {}
        },
        {
          "output_type": "display_data",
          "data": {
            "text/plain": "FirstStagecombine.tsv:   0%|          | 0.00/2.01M [00:00<?, ?B/s]",
            "application/vnd.jupyter.widget-view+json": {
              "version_major": 2,
              "version_minor": 0,
              "model_id": "d45e36aa427c4a3db2a3adc5a48b94d6"
            }
          },
          "metadata": {}
        },
        {
          "output_type": "display_data",
          "data": {
            "text/plain": "FirstStagecombine1000.tsv:   0%|          | 0.00/21.2M [00:00<?, ?B/s]",
            "application/vnd.jupyter.widget-view+json": {
              "version_major": 2,
              "version_minor": 0,
              "model_id": "30a77abdadb04c00bd38df2af71b0288"
            }
          },
          "metadata": {}
        },
        {
          "output_type": "display_data",
          "data": {
            "text/plain": "(…)-encoder-KD-v1_FirstStagecombine1000.tsv:   0%|          | 0.00/21.2M [00:00<?, ?B/s]",
            "application/vnd.jupyter.widget-view+json": {
              "version_major": 2,
              "version_minor": 0,
              "model_id": "182b26a99a49458095201fee6224130a"
            }
          },
          "metadata": {}
        },
        {
          "output_type": "display_data",
          "data": {
            "text/plain": "(…)er-KD-v1_run.mrtydi.bm25.ar.test1000.txt:   0%|          | 0.00/20.5M [00:00<?, ?B/s]",
            "application/vnd.jupyter.widget-view+json": {
              "version_major": 2,
              "version_minor": 0,
              "model_id": "ecb14e5a73f84375b79d12e74b29cc66"
            }
          },
          "metadata": {}
        },
        {
          "name": "stdout",
          "text": "*****************************************\nmmarco-Arabic-AraElectra-cross-encoder-KD-v1_run.mrtydi.bm25.ar.test1000.txt\n*****************************************\nmsmarco run detected. Converting to trec...\nrecip_rank            \tall\t0.5755\nrecall_100            \tall\t0.8915\n",
          "output_type": "stream"
        }
      ],
      "execution_count": null
    },
    {
      "cell_type": "code",
      "source": [
        "# evaluate first stage mmarco\n",
        "qerl_file =\"qrels.msmarco-passage.dev-subset.txt\"\n",
        "ranked_list=[\"FirstStage_mmarco/FirstStage-mmarco-Arabic-mMiniLML-bi-encoder-KD-v1.tsv\", \"FirstStage_mmarco/FirstStage-mmarco-Arabic-mMiniLML-bi-encoder-NoKD-v1.tsv\", \"FirstStage_mmarco/FirstStage-mmarco-Arabic-AraDPR-bi-encoder-KD-v1.tsv\", \"FirstStage_mmarco/FirstStage-mmarco-Arabic-AraDPR-bi-encoder-NoKD-v1.tsv\", \"FirstStage_mmarco/FirstStage-mmarco-Arabic-AraElectra-bi-encoder-KD-v1.tsv\", \"FirstStage_mmarco/FirstStage-mmarco-Arabic-AraElectra-bi-encoder-NoKD-v1.tsv\", \"FirstStageArabicmmarcopassageAraDPRetmMiniLM.dev.small.tsv\" ]\n",
        "from huggingface_hub import hf_hub_download\n",
        "hf_hub_download(repo_id=organization_dataset_id, filename=qerl_file, local_dir=\"./\", repo_type=\"dataset\")\n",
        "for i in range(len(ranked_list)):\n",
        "    hf_hub_download(repo_id=organization_dataset_id, filename=ranked_list[i], local_dir=\"./\", repo_type=\"dataset\")\n",
        "for i in ranked_list:\n",
        "        print(\"*****************************************\")\n",
        "        print(i)\n",
        "        print(\"*****************************************\")\n",
        "        #!python -m pyserini.eval.msmarco_passage_eval \\ # to get only MRR@10\n",
        "        !python -m pyserini.eval.trec_eval  -c -m recip_rank.10 -m recall.1000\\\n",
        "            qrels.msmarco-passage.dev-subset.txt \\\n",
        "            {i}\n",
        "        #break"
      ],
      "metadata": {
        "execution": {
          "iopub.status.busy": "2025-02-13T08:49:02.672990Z",
          "iopub.execute_input": "2025-02-13T08:49:02.673677Z",
          "iopub.status.idle": "2025-02-13T08:51:40.170310Z",
          "shell.execute_reply.started": "2025-02-13T08:49:02.673623Z",
          "shell.execute_reply": "2025-02-13T08:51:40.168428Z"
        },
        "trusted": true,
        "colab": {
          "referenced_widgets": [
            "cd030d14f5c44803a3acdf65068d7a33",
            "2beec79759b2436e97f50ff0d2ad0a81",
            "064aeba014bc4fb697897f52a7fca55f",
            "51c7e337205b4fae867f4c4aa523ac40",
            "07327363047e44d89587bf6879da2773",
            "abea6a5d8dc94359ab255f1b5828b799",
            "582bd804fe7c4f988e7368216854df6b",
            "5d14a44ddb534e02af2414ad7fc4654b"
          ]
        },
        "id": "LNq9JqdszGfR",
        "outputId": "af1a8403-beaa-4d4a-ae79-3ef44197a150"
      },
      "outputs": [
        {
          "output_type": "display_data",
          "data": {
            "text/plain": "qrels.msmarco-passage.dev-subset.txt:   0%|          | 0.00/143k [00:00<?, ?B/s]",
            "application/vnd.jupyter.widget-view+json": {
              "version_major": 2,
              "version_minor": 0,
              "model_id": "cd030d14f5c44803a3acdf65068d7a33"
            }
          },
          "metadata": {}
        },
        {
          "output_type": "display_data",
          "data": {
            "text/plain": "(…)rco-Arabic-mMiniLML-bi-encoder-KD-v1.tsv:   0%|          | 0.00/133M [00:00<?, ?B/s]",
            "application/vnd.jupyter.widget-view+json": {
              "version_major": 2,
              "version_minor": 0,
              "model_id": "2beec79759b2436e97f50ff0d2ad0a81"
            }
          },
          "metadata": {}
        },
        {
          "output_type": "display_data",
          "data": {
            "text/plain": "(…)o-Arabic-mMiniLML-bi-encoder-NoKD-v1.tsv:   0%|          | 0.00/133M [00:00<?, ?B/s]",
            "application/vnd.jupyter.widget-view+json": {
              "version_major": 2,
              "version_minor": 0,
              "model_id": "064aeba014bc4fb697897f52a7fca55f"
            }
          },
          "metadata": {}
        },
        {
          "output_type": "display_data",
          "data": {
            "text/plain": "(…)marco-Arabic-AraDPR-bi-encoder-KD-v1.tsv:   0%|          | 0.00/133M [00:00<?, ?B/s]",
            "application/vnd.jupyter.widget-view+json": {
              "version_major": 2,
              "version_minor": 0,
              "model_id": "51c7e337205b4fae867f4c4aa523ac40"
            }
          },
          "metadata": {}
        },
        {
          "output_type": "display_data",
          "data": {
            "text/plain": "(…)rco-Arabic-AraDPR-bi-encoder-NoKD-v1.tsv:   0%|          | 0.00/133M [00:00<?, ?B/s]",
            "application/vnd.jupyter.widget-view+json": {
              "version_major": 2,
              "version_minor": 0,
              "model_id": "07327363047e44d89587bf6879da2773"
            }
          },
          "metadata": {}
        },
        {
          "output_type": "display_data",
          "data": {
            "text/plain": "(…)o-Arabic-AraElectra-bi-encoder-KD-v1.tsv:   0%|          | 0.00/133M [00:00<?, ?B/s]",
            "application/vnd.jupyter.widget-view+json": {
              "version_major": 2,
              "version_minor": 0,
              "model_id": "abea6a5d8dc94359ab255f1b5828b799"
            }
          },
          "metadata": {}
        },
        {
          "output_type": "display_data",
          "data": {
            "text/plain": "(…)Arabic-AraElectra-bi-encoder-NoKD-v1.tsv:   0%|          | 0.00/133M [00:00<?, ?B/s]",
            "application/vnd.jupyter.widget-view+json": {
              "version_major": 2,
              "version_minor": 0,
              "model_id": "582bd804fe7c4f988e7368216854df6b"
            }
          },
          "metadata": {}
        },
        {
          "output_type": "display_data",
          "data": {
            "text/plain": "(…)arcopassageAraDPRetmMiniLM.dev.small.tsv:   0%|          | 0.00/133M [00:00<?, ?B/s]",
            "application/vnd.jupyter.widget-view+json": {
              "version_major": 2,
              "version_minor": 0,
              "model_id": "5d14a44ddb534e02af2414ad7fc4654b"
            }
          },
          "metadata": {}
        },
        {
          "name": "stdout",
          "text": "*****************************************\nFirstStage_mmarco/FirstStage-mmarco-Arabic-mMiniLML-bi-encoder-KD-v1.tsv\n*****************************************\nmsmarco run detected. Converting to trec...\nrecip_rank            \tall\t0.1839\nrecall_1000           \tall\t0.7771\n",
          "output_type": "stream"
        }
      ],
      "execution_count": null
    },
    {
      "cell_type": "code",
      "source": [
        "# evaluate second stage Arabic mMARCO reranked 1000bm25\n",
        "qerl_file =\"qrels.msmarco-passage.dev-subset.txt\"\n",
        "ranked_list=[\"mmarco_run1000bm25Reranked/mmarco-Arabic-mMiniLML-cross-encoder-KD-v1.tsv\", \"mmarco_run1000bm25Reranked/mmarco-Arabic-mMiniLML-cross-encoder-NoKD-v1.tsv\", \"mmarco_run1000bm25Reranked/mmarco-Arabic-AraDPR-cross-encoder-KD-v1.tsv\", \"mmarco_run1000bm25Reranked/mmarco-Arabic-AraDPR-cross-encoder-NoKD-v1.tsv\", \"mmarco_run1000bm25Reranked/mmarco-Arabic-AraElectra-cross-encoder-KD-v1.tsv\", \"mmarco_run1000bm25Reranked/mmarco-Arabic-AraElectra-cross-encoder-NoKD-v1.tsv\" ]\n",
        "from huggingface_hub import hf_hub_download\n",
        "hf_hub_download(repo_id=organization_dataset_id, filename=qerl_file, local_dir=\"./\", repo_type=\"dataset\")\n",
        "for i in range(len(ranked_list)):\n",
        "    hf_hub_download(repo_id=organization_dataset_id, filename=ranked_list[i], local_dir=\"./\", repo_type=\"dataset\")\n",
        "for i in ranked_list:\n",
        "        print(\"*****************************************\")\n",
        "        print(i)\n",
        "        print(\"*****************************************\")\n",
        "        #!python -m pyserini.eval.msmarco_passage_eval \\ # to get only MRR@10\n",
        "        !python -m pyserini.eval.trec_eval  -c  -m recip_rank.10 -m recall.1000\\\n",
        "            qrels.msmarco-passage.dev-subset.txt \\\n",
        "            {i}\n",
        "        #break"
      ],
      "metadata": {
        "trusted": true,
        "execution": {
          "iopub.status.busy": "2025-02-13T08:51:40.174028Z",
          "iopub.execute_input": "2025-02-13T08:51:40.174680Z",
          "iopub.status.idle": "2025-02-13T08:53:57.927318Z",
          "shell.execute_reply.started": "2025-02-13T08:51:40.174617Z",
          "shell.execute_reply": "2025-02-13T08:53:57.925340Z"
        },
        "colab": {
          "referenced_widgets": [
            "359bbda218a14788a3b371013456561b",
            "c943681d6d5a45a590729f7d83564468",
            "3eb865b3c07f42eea931a236a715887f",
            "8e0c83756cf445959d709425d474c277",
            "e2ee02c90a1f43f4841c78965675ec14",
            "a051cb8603e64d938a331dcbcdefa18c"
          ]
        },
        "id": "IDqFj1SyzGfS",
        "outputId": "9a53b8c5-de6c-4510-9532-231d111069f4"
      },
      "outputs": [
        {
          "output_type": "display_data",
          "data": {
            "text/plain": "(…)-Arabic-mMiniLML-cross-encoder-KD-v1.tsv:   0%|          | 0.00/131M [00:00<?, ?B/s]",
            "application/vnd.jupyter.widget-view+json": {
              "version_major": 2,
              "version_minor": 0,
              "model_id": "359bbda218a14788a3b371013456561b"
            }
          },
          "metadata": {}
        },
        {
          "output_type": "display_data",
          "data": {
            "text/plain": "(…)rabic-mMiniLML-cross-encoder-NoKD-v1.tsv:   0%|          | 0.00/131M [00:00<?, ?B/s]",
            "application/vnd.jupyter.widget-view+json": {
              "version_major": 2,
              "version_minor": 0,
              "model_id": "c943681d6d5a45a590729f7d83564468"
            }
          },
          "metadata": {}
        },
        {
          "output_type": "display_data",
          "data": {
            "text/plain": "(…)co-Arabic-AraDPR-cross-encoder-KD-v1.tsv:   0%|          | 0.00/131M [00:00<?, ?B/s]",
            "application/vnd.jupyter.widget-view+json": {
              "version_major": 2,
              "version_minor": 0,
              "model_id": "3eb865b3c07f42eea931a236a715887f"
            }
          },
          "metadata": {}
        },
        {
          "output_type": "display_data",
          "data": {
            "text/plain": "(…)-Arabic-AraDPR-cross-encoder-NoKD-v1.tsv:   0%|          | 0.00/131M [00:00<?, ?B/s]",
            "application/vnd.jupyter.widget-view+json": {
              "version_major": 2,
              "version_minor": 0,
              "model_id": "8e0c83756cf445959d709425d474c277"
            }
          },
          "metadata": {}
        },
        {
          "output_type": "display_data",
          "data": {
            "text/plain": "(…)rabic-AraElectra-cross-encoder-KD-v1.tsv:   0%|          | 0.00/131M [00:00<?, ?B/s]",
            "application/vnd.jupyter.widget-view+json": {
              "version_major": 2,
              "version_minor": 0,
              "model_id": "e2ee02c90a1f43f4841c78965675ec14"
            }
          },
          "metadata": {}
        },
        {
          "output_type": "display_data",
          "data": {
            "text/plain": "(…)bic-AraElectra-cross-encoder-NoKD-v1.tsv:   0%|          | 0.00/131M [00:00<?, ?B/s]",
            "application/vnd.jupyter.widget-view+json": {
              "version_major": 2,
              "version_minor": 0,
              "model_id": "a051cb8603e64d938a331dcbcdefa18c"
            }
          },
          "metadata": {}
        },
        {
          "name": "stdout",
          "text": "*****************************************\nmmarco_run1000bm25Reranked/mmarco-Arabic-mMiniLML-cross-encoder-KD-v1.tsv\n*****************************************\nmsmarco run detected. Converting to trec...\nrecip_rank            \tall\t0.2356\nrecall_1000           \tall\t0.6369\n",
          "output_type": "stream"
        }
      ],
      "execution_count": null
    }
  ]
}