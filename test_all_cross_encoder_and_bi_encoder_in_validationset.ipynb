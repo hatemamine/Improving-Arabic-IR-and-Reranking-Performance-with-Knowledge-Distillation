{
  "metadata": {
    "kernelspec": {
      "name": "python3",
      "display_name": "Python 3",
      "language": "python"
    },
    "language_info": {
      "name": "python",
      "version": "3.10.14",
      "mimetype": "text/x-python",
      "codemirror_mode": {
        "name": "ipython",
        "version": 3
      },
      "pygments_lexer": "ipython3",
      "nbconvert_exporter": "python",
      "file_extension": ".py"
    },
    "kaggle": {
      "accelerator": "gpu",
      "dataSources": [],
      "dockerImageVersionId": 30787,
      "isInternetEnabled": true,
      "language": "python",
      "sourceType": "notebook",
      "isGpuEnabled": true
    },
    "colab": {
      "provenance": [],
      "include_colab_link": true
    }
  },
  "nbformat_minor": 0,
  "nbformat": 4,
  "cells": [
    {
      "cell_type": "markdown",
      "metadata": {
        "id": "view-in-github",
        "colab_type": "text"
      },
      "source": [
        "<a href=\"https://colab.research.google.com/github/hatemamine/Improving-Arabic-IR-and-Reranking-Performance-with-Knowledge-Distillation/blob/main/test_all_cross_encoder_and_bi_encoder_in_validationset.ipynb\" target=\"_parent\"><img src=\"https://colab.research.google.com/assets/colab-badge.svg\" alt=\"Open In Colab\"/></a>"
      ]
    },
    {
      "cell_type": "markdown",
      "source": [
        "# Ours bi-encoder model\n",
        "https://huggingface.co/hatemestinbejaia/mmarco-Arabic-AraElectra-bi-encoder-NoKD-v1\n",
        "https://huggingface.co/hatemestinbejaia/mmarco-Arabic-AraElectra-bi-encoder-KD-v1\n",
        "https://huggingface.co/hatemestinbejaia/mmarco-Arabic-AraDPR-bi-encoder-NoKD-v1\n",
        "https://huggingface.co/hatemestinbejaia/mmarco-Arabic-AraDPR-bi-encoder-KD-v1\n",
        "https://huggingface.co/hatemestinbejaia/mmarco-Arabic-mMiniLML-bi-encoder-NoKD-v1\n",
        "https://huggingface.co/hatemestinbejaia/mmarco-Arabic-mMiniLML-bi-encoder-KD-v1\n",
        "# Ours cross-encoder model\n",
        "https://huggingface.co/hatemestinbejaia/mmarco-Arabic-AraElectra-cross-encoder-NoKD-v1\n",
        "https://huggingface.co/hatemestinbejaia/mmarco-Arabic-AraElectra-cross-encoder-KD-v1\n",
        "https://huggingface.co/hatemestinbejaia/mmarco-Arabic-AraDPR-cross-encoder-NoKD-v1\n",
        "https://huggingface.co/hatemestinbejaia/mmarco-Arabic-AraDPR-cross-encoder-KD-v1\n",
        "https://huggingface.co/hatemestinbejaia/mmarco-Arabic-mMiniLML-cross-encoder-NoKD-v1\n",
        "https://huggingface.co/hatemestinbejaia/mmarco-Arabic-mMiniLML-cross-encoder-KD-v1"
      ],
      "metadata": {
        "id": "0ODK3Jco5Wrd"
      }
    },
    {
      "cell_type": "markdown",
      "source": [
        "%env PATH=/usr/local/cuda/bin:/opt/conda/bin:/opt/conda/condabin:/opt/conda/bin:/usr/local/sbin:/usr/local/bin:/usr/sbin:/usr/bin:/sbin:/bin!pip install huggingface_hub -q!pip install datasets -q!pip install torch -q!pip install transformers -q!pip install tensorflow-cpu==2.16.1 -q!pip install tf-keras==2.16.0 --no-dependencies -q!pip install wandb -q!pip install -U accelerate -q!pip install -U transformers[torch]==4.45.2 -q!pip install sentence_transformers==3.1.1 -q"
      ],
      "metadata": {
        "id": "Gz_cq9Gr5Wro"
      }
    },
    {
      "cell_type": "code",
      "source": [
        "organization_dataset_id=\"hatemestinbejaia/ExperimentDATA_knowledge_distillation_vs_fine_tuning\"\n",
        "dev_name= \"dev_samples_araelectra.pkl\"\n",
        "model_list= [ \"hatemestinbejaia/mmarco-Arabic-AraElectra-bi-encoder-NoKD-v1\",\n",
        "              \"hatemestinbejaia/mmarco-Arabic-AraElectra-bi-encoder-KD-v1\",\n",
        "              \"hatemestinbejaia/mmarco-Arabic-AraDPR-bi-encoder-NoKD-v1\",\n",
        "              \"hatemestinbejaia/mmarco-Arabic-AraDPR-bi-encoder-KD-v1\",\n",
        "              \"hatemestinbejaia/mmarco-Arabic-mMiniLML-bi-encoder-NoKD-v1\",\n",
        "              \"hatemestinbejaia/mmarco-Arabic-mMiniLML-bi-encoder-KD-v1\",\n",
        "              \"hatemestinbejaia/mmarco-Arabic-AraElectra-cross-encoder-NoKD-v1\",\n",
        "              \"hatemestinbejaia/mmarco-Arabic-AraElectra-cross-encoder-KD-v1\",\n",
        "              \"hatemestinbejaia/mmarco-Arabic-AraDPR-cross-encoder-NoKD-v1\",\n",
        "              \"hatemestinbejaia/mmarco-Arabic-AraDPR-cross-encoder-KD-v1\",\n",
        "              \"hatemestinbejaia/mmarco-Arabic-mMiniLML-cross-encoder-NoKD-v1\",\n",
        "              \"hatemestinbejaia/mmarco-Arabic-mMiniLML-cross-encoder-KD-v1\",\n",
        "            ]"
      ],
      "metadata": {
        "trusted": true,
        "execution": {
          "iopub.status.busy": "2025-02-13T13:19:46.055112Z",
          "iopub.execute_input": "2025-02-13T13:19:46.055508Z",
          "iopub.status.idle": "2025-02-13T13:19:46.061380Z",
          "shell.execute_reply.started": "2025-02-13T13:19:46.055474Z",
          "shell.execute_reply": "2025-02-13T13:19:46.060381Z"
        },
        "id": "syQAWvl25Wrq"
      },
      "outputs": [],
      "execution_count": null
    },
    {
      "cell_type": "code",
      "source": [
        "!pip install sentence_transformers -q"
      ],
      "metadata": {
        "execution": {
          "iopub.status.busy": "2025-02-13T13:19:50.041716Z",
          "iopub.execute_input": "2025-02-13T13:19:50.042066Z",
          "iopub.status.idle": "2025-02-13T13:20:00.834996Z",
          "shell.execute_reply.started": "2025-02-13T13:19:50.042034Z",
          "shell.execute_reply": "2025-02-13T13:20:00.833628Z"
        },
        "trusted": true,
        "id": "YpD1sSlE5Wrv"
      },
      "outputs": [],
      "execution_count": null
    },
    {
      "cell_type": "code",
      "source": [
        "from sentence_transformers import SentenceTransformer\n",
        "from sentence_transformers.cross_encoder import CrossEncoder\n",
        "from sentence_transformers.evaluation import  RerankingEvaluator\n",
        "from huggingface_hub import hf_hub_download\n",
        "hf_hub_download(repo_id=organization_dataset_id, filename=dev_name, local_dir=\"./\", repo_type=\"dataset\")\n",
        "import pickle\n",
        "from sentence_transformers.cross_encoder.evaluation  import CERerankingEvaluator\n",
        "with open(dev_name, 'rb') as f : dev_samples = pickle.load(f)\n",
        "dev_evaluator_bi_encoder = RerankingEvaluator(dev_samples)\n",
        "dev_evaluator_cross_encoder  = CERerankingEvaluator(dev_samples, name=\"train-eval\",write_csv=False)"
      ],
      "metadata": {
        "execution": {
          "iopub.status.busy": "2025-02-13T13:20:06.642645Z",
          "iopub.execute_input": "2025-02-13T13:20:06.643500Z",
          "iopub.status.idle": "2025-02-13T13:20:28.869339Z",
          "shell.execute_reply.started": "2025-02-13T13:20:06.643460Z",
          "shell.execute_reply": "2025-02-13T13:20:28.868526Z"
        },
        "trusted": true,
        "colab": {
          "referenced_widgets": [
            "ea4e0a556cd24d4e97ab213ca99d7688"
          ]
        },
        "id": "wO5nhF0p5Wry",
        "outputId": "091300c4-b6d4-40d5-b666-e8506e83799d"
      },
      "outputs": [
        {
          "output_type": "display_data",
          "data": {
            "text/plain": "dev_samples_araelectra.pkl:   0%|          | 0.00/17.7M [00:00<?, ?B/s]",
            "application/vnd.jupyter.widget-view+json": {
              "version_major": 2,
              "version_minor": 0,
              "model_id": "ea4e0a556cd24d4e97ab213ca99d7688"
            }
          },
          "metadata": {}
        }
      ],
      "execution_count": null
    },
    {
      "cell_type": "code",
      "source": [
        "results=[]\n",
        "for i in model_list:\n",
        "    if \"cross\" in i:\n",
        "        testmodel = CrossEncoder(i, max_length=256)\n",
        "        result = dev_evaluator_cross_encoder(testmodel)\n",
        "    else:\n",
        "        testmodel = SentenceTransformer(i)\n",
        "        testmodel.eval()\n",
        "        result= dev_evaluator_bi_encoder(testmodel)\n",
        "    results.append(result)"
      ],
      "metadata": {
        "trusted": true,
        "execution": {
          "iopub.status.busy": "2025-02-13T13:22:03.514745Z",
          "iopub.execute_input": "2025-02-13T13:22:03.515936Z",
          "iopub.status.idle": "2025-02-13T13:49:28.620034Z",
          "shell.execute_reply.started": "2025-02-13T13:22:03.515895Z",
          "shell.execute_reply": "2025-02-13T13:49:28.618998Z"
        },
        "colab": {
          "referenced_widgets": [
            "0ba4a4728df64efbbe1f43f632eb2df3",
            "591a275e92a348df828e874b84cc3f3e",
            "5b6fb95af7a6440e8bf217dfcad00a65",
            "205192618bbb427fa41f5a9368ab69ed",
            "65cb593267fe494e94523acb5b5b60e1",
            "1fe8d29321904295804454826d4e5ddf",
            "c0f4765817a641d89cd60e11d1b0afd8",
            "0bfc340f1d0d4947986556e59b3378be",
            "5ecae0dde22a44f199dad588103d28dd",
            "d4552e8b889c4ba08ed023f7dcfba80c",
            "dc321ff8deb340d09e6e72bfb5c71732",
            "b4f0385d45a34fea8ddfa954e7dc6fe1",
            "7a6bead725ed4829b533b36aca462fa0",
            "8f1db4fc5f8a477d8071f93816673274",
            "77da19598f53497ca2f61c382122ed96",
            "5850d5551be54829bea9d32d60acd3a9",
            "5047b5cd8ac84f9a8d6e6b25236c1418",
            "5fec950cb1f248fdb13e88b6ef4bdca4",
            "919cdb750b024d29862f8c705bf031fe",
            "0ba2ef4b288040a0bb30d59be8f54f06",
            "c7e04066da1043149df0d5aeda2ed191",
            "b7e5ea1881ad4323b5c3d27aa5e09532",
            "d133e5033e4444178d8d4a61b9c712b6",
            "fe193815a93d4906985cf673d441214c",
            "aa29c5fd3da44a828f5729e56917c670",
            "45abe3ca2eb748b7bf0135db8af9ff1b",
            "38c8a986e9f34b77be4328734c3124c4",
            "ae7079ca884e4c018631f75fbe5f492d",
            "d257e4c56cc445139ee621ac2f7da5d3",
            "0aa135a2d9dc4c8d8649334c1bfd62a5",
            "316991552f8244dba12c8b5c8363e5e4",
            "5912fe81471b433cb9ed7901c4e8ce83",
            "545968cec5ea428a8db7a3b9a01d97b9",
            "ec189fc1534244d8a08c25b3a4c810cf",
            "7be888b049674a8d90eff63eeb4eaf0b",
            "e03d372767a2428a8556973272e59284",
            "45f66cc5f98e440fb218b4746fa0a071",
            "fdd5b3593e9c458c814f97af63f1784e",
            "5b8cff9e379c4d518d9c4d7dc00cdfaf",
            "69d6eac1a51c45358c927812c08a0a32",
            "8403eb6fd708494eb06a38f207e0551e",
            "600c5d2617e846c0be2857e77c75c0a3",
            "b6cec21703fc46d0afb89eb134c7ecd6",
            "b9a458465b3f4368a2b8ab62b98cbf19",
            "27b24e586d3c44458161a152d89d3cb4",
            "4563b31fe2de4055ac7a0df84724bd68",
            "a5f4f2ea63724a0e88a56cf8acaea484",
            "090fb407d58d4c3189f392edabfd349c",
            "81cae3996d974a00a0d7e068e0993479",
            "393ae307b2144aea85717fd93a5e7e69",
            "b19ca75feba645f6a25fa2bb9d9e8c7d",
            "507afd022174466b9fffa8611eaabd47",
            "dddc05418cb14c14ba72671af583a6fd",
            "cbe4eb7e493e4932881b1fe3e3f9439d",
            "0aa001d8b64d42bea65912aca2378e75",
            "75e7bb556a6742fc9a0629b9fe4a6d6b",
            "b431294fcdfe495aa5b231d98bc81992",
            "1703f25be9b54223a4d4089618f5b9fc",
            "8c84a9f404bf4b33b34eced6625e4ffc",
            "27aae12279954c87bb69b91afd228677",
            "6eeabad4180d42d4903b91c85640034d",
            "bf9d24654cd945c6ad0e0bfebf37981c",
            "5656b76c87ab4fb091355f4441753976",
            "c38fc8dfe93747ba91e6929851e156b1",
            "a28a80ccc1bb4b4d92f10968a98369e7",
            "7245852ff4e94469af2f7f87cb123ee6",
            "3053ec6c5186474a9a25fdf3914be16e",
            "2e3768676cbf408c86bb2211ddadf174",
            "738fafe2a94c495dbcb0f4c8fccd58e9",
            "960ebb928a5f44ffb8723d1dcde38074",
            "bfd28efdbfe84e0c96bf815a83da8396",
            "7c24175a001b4374b11b2b27fcde7d33",
            "dfbf343cc64b4fed90e6db57a9ce3494",
            "b6c2594bc2564719ae2606662b9514f8",
            "749780aa2a454d758ffe6def00419819",
            "c39d3eee15f74e07830bcf27a818cb57",
            "966f8366eb704950a415110b7bbec463",
            "e420baef000e402dadcb94da016e3f16",
            "cce5fb94b3124460a9f10364ca73b3cf",
            "d9d79bcbef07400b887eb57f5e5c789e",
            "ab17e92af164443591803268d1684c82",
            "40608fb7969b446eab2f71f1061359f2",
            "cbfe075bc25f48ccac88e5672788e492",
            "9ecc88db6cdb4f4d903cdab09b80a53b",
            "9038e94b00ea452db1eea5ba808ca925",
            "16d8b550d33344d5932b50babb5e1483",
            "99fa8cefd58b435fa83f7018c5a20073",
            "9b4030617bdb451680d1023d23f20864",
            "9eb108e4105b48b98ce74a70ce96c073",
            "3a271e3e9c1e4a118107e584a5e02e46",
            "eeff399ee4074743a637e0b2f06bb343",
            "c6f573c4f1ab44d08fe67115e686c663",
            "e092f2ce3ce14d03bd74962f0d6539da",
            "5599664922854fe2bd987cb4b2024533",
            "b6df51be220241ffa285d07ff908e142",
            "1595ceffb77b40e496be2b6fd37be8b8",
            "4574121d8b86409b9d3f2ef3ba6336be",
            "deec83661c0542ceb430015e616761f9"
          ]
        },
        "id": "D9oq9euZ5Wr1",
        "outputId": "c715e965-b383-480a-b468-58247d480276"
      },
      "outputs": [
        {
          "output_type": "display_data",
          "data": {
            "text/plain": "modules.json:   0%|          | 0.00/229 [00:00<?, ?B/s]",
            "application/vnd.jupyter.widget-view+json": {
              "version_major": 2,
              "version_minor": 0,
              "model_id": "0ba4a4728df64efbbe1f43f632eb2df3"
            }
          },
          "metadata": {}
        },
        {
          "output_type": "display_data",
          "data": {
            "text/plain": "config_sentence_transformers.json:   0%|          | 0.00/199 [00:00<?, ?B/s]",
            "application/vnd.jupyter.widget-view+json": {
              "version_major": 2,
              "version_minor": 0,
              "model_id": "591a275e92a348df828e874b84cc3f3e"
            }
          },
          "metadata": {}
        },
        {
          "output_type": "display_data",
          "data": {
            "text/plain": "README.md:   0%|          | 0.00/34.1k [00:00<?, ?B/s]",
            "application/vnd.jupyter.widget-view+json": {
              "version_major": 2,
              "version_minor": 0,
              "model_id": "5b6fb95af7a6440e8bf217dfcad00a65"
            }
          },
          "metadata": {}
        },
        {
          "output_type": "display_data",
          "data": {
            "text/plain": "sentence_bert_config.json:   0%|          | 0.00/53.0 [00:00<?, ?B/s]",
            "application/vnd.jupyter.widget-view+json": {
              "version_major": 2,
              "version_minor": 0,
              "model_id": "205192618bbb427fa41f5a9368ab69ed"
            }
          },
          "metadata": {}
        },
        {
          "output_type": "display_data",
          "data": {
            "text/plain": "config.json:   0%|          | 0.00/831 [00:00<?, ?B/s]",
            "application/vnd.jupyter.widget-view+json": {
              "version_major": 2,
              "version_minor": 0,
              "model_id": "65cb593267fe494e94523acb5b5b60e1"
            }
          },
          "metadata": {}
        },
        {
          "output_type": "display_data",
          "data": {
            "text/plain": "model.safetensors:   0%|          | 0.00/538M [00:00<?, ?B/s]",
            "application/vnd.jupyter.widget-view+json": {
              "version_major": 2,
              "version_minor": 0,
              "model_id": "1fe8d29321904295804454826d4e5ddf"
            }
          },
          "metadata": {}
        },
        {
          "output_type": "display_data",
          "data": {
            "text/plain": "tokenizer_config.json:   0%|          | 0.00/1.83k [00:00<?, ?B/s]",
            "application/vnd.jupyter.widget-view+json": {
              "version_major": 2,
              "version_minor": 0,
              "model_id": "c0f4765817a641d89cd60e11d1b0afd8"
            }
          },
          "metadata": {}
        },
        {
          "output_type": "display_data",
          "data": {
            "text/plain": "vocab.txt:   0%|          | 0.00/761k [00:00<?, ?B/s]",
            "application/vnd.jupyter.widget-view+json": {
              "version_major": 2,
              "version_minor": 0,
              "model_id": "0bfc340f1d0d4947986556e59b3378be"
            }
          },
          "metadata": {}
        },
        {
          "output_type": "display_data",
          "data": {
            "text/plain": "tokenizer.json:   0%|          | 0.00/1.78M [00:00<?, ?B/s]",
            "application/vnd.jupyter.widget-view+json": {
              "version_major": 2,
              "version_minor": 0,
              "model_id": "5ecae0dde22a44f199dad588103d28dd"
            }
          },
          "metadata": {}
        },
        {
          "output_type": "display_data",
          "data": {
            "text/plain": "special_tokens_map.json:   0%|          | 0.00/695 [00:00<?, ?B/s]",
            "application/vnd.jupyter.widget-view+json": {
              "version_major": 2,
              "version_minor": 0,
              "model_id": "d4552e8b889c4ba08ed023f7dcfba80c"
            }
          },
          "metadata": {}
        },
        {
          "output_type": "display_data",
          "data": {
            "text/plain": "1_Pooling%2Fconfig.json:   0%|          | 0.00/296 [00:00<?, ?B/s]",
            "application/vnd.jupyter.widget-view+json": {
              "version_major": 2,
              "version_minor": 0,
              "model_id": "dc321ff8deb340d09e6e72bfb5c71732"
            }
          },
          "metadata": {}
        },
        {
          "output_type": "display_data",
          "data": {
            "text/plain": "modules.json:   0%|          | 0.00/229 [00:00<?, ?B/s]",
            "application/vnd.jupyter.widget-view+json": {
              "version_major": 2,
              "version_minor": 0,
              "model_id": "b4f0385d45a34fea8ddfa954e7dc6fe1"
            }
          },
          "metadata": {}
        },
        {
          "output_type": "display_data",
          "data": {
            "text/plain": "config_sentence_transformers.json:   0%|          | 0.00/199 [00:00<?, ?B/s]",
            "application/vnd.jupyter.widget-view+json": {
              "version_major": 2,
              "version_minor": 0,
              "model_id": "7a6bead725ed4829b533b36aca462fa0"
            }
          },
          "metadata": {}
        },
        {
          "output_type": "display_data",
          "data": {
            "text/plain": "README.md:   0%|          | 0.00/34.0k [00:00<?, ?B/s]",
            "application/vnd.jupyter.widget-view+json": {
              "version_major": 2,
              "version_minor": 0,
              "model_id": "8f1db4fc5f8a477d8071f93816673274"
            }
          },
          "metadata": {}
        },
        {
          "output_type": "display_data",
          "data": {
            "text/plain": "sentence_bert_config.json:   0%|          | 0.00/53.0 [00:00<?, ?B/s]",
            "application/vnd.jupyter.widget-view+json": {
              "version_major": 2,
              "version_minor": 0,
              "model_id": "77da19598f53497ca2f61c382122ed96"
            }
          },
          "metadata": {}
        },
        {
          "output_type": "display_data",
          "data": {
            "text/plain": "config.json:   0%|          | 0.00/831 [00:00<?, ?B/s]",
            "application/vnd.jupyter.widget-view+json": {
              "version_major": 2,
              "version_minor": 0,
              "model_id": "5850d5551be54829bea9d32d60acd3a9"
            }
          },
          "metadata": {}
        },
        {
          "output_type": "display_data",
          "data": {
            "text/plain": "model.safetensors:   0%|          | 0.00/538M [00:00<?, ?B/s]",
            "application/vnd.jupyter.widget-view+json": {
              "version_major": 2,
              "version_minor": 0,
              "model_id": "5047b5cd8ac84f9a8d6e6b25236c1418"
            }
          },
          "metadata": {}
        },
        {
          "output_type": "display_data",
          "data": {
            "text/plain": "tokenizer_config.json:   0%|          | 0.00/1.83k [00:00<?, ?B/s]",
            "application/vnd.jupyter.widget-view+json": {
              "version_major": 2,
              "version_minor": 0,
              "model_id": "5fec950cb1f248fdb13e88b6ef4bdca4"
            }
          },
          "metadata": {}
        },
        {
          "output_type": "display_data",
          "data": {
            "text/plain": "vocab.txt:   0%|          | 0.00/761k [00:00<?, ?B/s]",
            "application/vnd.jupyter.widget-view+json": {
              "version_major": 2,
              "version_minor": 0,
              "model_id": "919cdb750b024d29862f8c705bf031fe"
            }
          },
          "metadata": {}
        },
        {
          "output_type": "display_data",
          "data": {
            "text/plain": "tokenizer.json:   0%|          | 0.00/1.78M [00:00<?, ?B/s]",
            "application/vnd.jupyter.widget-view+json": {
              "version_major": 2,
              "version_minor": 0,
              "model_id": "0ba2ef4b288040a0bb30d59be8f54f06"
            }
          },
          "metadata": {}
        },
        {
          "output_type": "display_data",
          "data": {
            "text/plain": "special_tokens_map.json:   0%|          | 0.00/695 [00:00<?, ?B/s]",
            "application/vnd.jupyter.widget-view+json": {
              "version_major": 2,
              "version_minor": 0,
              "model_id": "c7e04066da1043149df0d5aeda2ed191"
            }
          },
          "metadata": {}
        },
        {
          "output_type": "display_data",
          "data": {
            "text/plain": "1_Pooling%2Fconfig.json:   0%|          | 0.00/296 [00:00<?, ?B/s]",
            "application/vnd.jupyter.widget-view+json": {
              "version_major": 2,
              "version_minor": 0,
              "model_id": "b7e5ea1881ad4323b5c3d27aa5e09532"
            }
          },
          "metadata": {}
        },
        {
          "output_type": "display_data",
          "data": {
            "text/plain": "modules.json:   0%|          | 0.00/229 [00:00<?, ?B/s]",
            "application/vnd.jupyter.widget-view+json": {
              "version_major": 2,
              "version_minor": 0,
              "model_id": "d133e5033e4444178d8d4a61b9c712b6"
            }
          },
          "metadata": {}
        },
        {
          "output_type": "display_data",
          "data": {
            "text/plain": "config_sentence_transformers.json:   0%|          | 0.00/199 [00:00<?, ?B/s]",
            "application/vnd.jupyter.widget-view+json": {
              "version_major": 2,
              "version_minor": 0,
              "model_id": "fe193815a93d4906985cf673d441214c"
            }
          },
          "metadata": {}
        },
        {
          "output_type": "display_data",
          "data": {
            "text/plain": "README.md:   0%|          | 0.00/34.5k [00:00<?, ?B/s]",
            "application/vnd.jupyter.widget-view+json": {
              "version_major": 2,
              "version_minor": 0,
              "model_id": "aa29c5fd3da44a828f5729e56917c670"
            }
          },
          "metadata": {}
        },
        {
          "output_type": "display_data",
          "data": {
            "text/plain": "sentence_bert_config.json:   0%|          | 0.00/53.0 [00:00<?, ?B/s]",
            "application/vnd.jupyter.widget-view+json": {
              "version_major": 2,
              "version_minor": 0,
              "model_id": "45abe3ca2eb748b7bf0135db8af9ff1b"
            }
          },
          "metadata": {}
        },
        {
          "output_type": "display_data",
          "data": {
            "text/plain": "config.json:   0%|          | 0.00/851 [00:00<?, ?B/s]",
            "application/vnd.jupyter.widget-view+json": {
              "version_major": 2,
              "version_minor": 0,
              "model_id": "38c8a986e9f34b77be4328734c3124c4"
            }
          },
          "metadata": {}
        },
        {
          "output_type": "display_data",
          "data": {
            "text/plain": "model.safetensors:   0%|          | 0.00/711M [00:00<?, ?B/s]",
            "application/vnd.jupyter.widget-view+json": {
              "version_major": 2,
              "version_minor": 0,
              "model_id": "ae7079ca884e4c018631f75fbe5f492d"
            }
          },
          "metadata": {}
        },
        {
          "output_type": "display_data",
          "data": {
            "text/plain": "tokenizer_config.json:   0%|          | 0.00/1.24k [00:00<?, ?B/s]",
            "application/vnd.jupyter.widget-view+json": {
              "version_major": 2,
              "version_minor": 0,
              "model_id": "d257e4c56cc445139ee621ac2f7da5d3"
            }
          },
          "metadata": {}
        },
        {
          "output_type": "display_data",
          "data": {
            "text/plain": "vocab.txt:   0%|          | 0.00/996k [00:00<?, ?B/s]",
            "application/vnd.jupyter.widget-view+json": {
              "version_major": 2,
              "version_minor": 0,
              "model_id": "0aa135a2d9dc4c8d8649334c1bfd62a5"
            }
          },
          "metadata": {}
        },
        {
          "output_type": "display_data",
          "data": {
            "text/plain": "tokenizer.json:   0%|          | 0.00/2.92M [00:00<?, ?B/s]",
            "application/vnd.jupyter.widget-view+json": {
              "version_major": 2,
              "version_minor": 0,
              "model_id": "316991552f8244dba12c8b5c8363e5e4"
            }
          },
          "metadata": {}
        },
        {
          "output_type": "display_data",
          "data": {
            "text/plain": "special_tokens_map.json:   0%|          | 0.00/125 [00:00<?, ?B/s]",
            "application/vnd.jupyter.widget-view+json": {
              "version_major": 2,
              "version_minor": 0,
              "model_id": "5912fe81471b433cb9ed7901c4e8ce83"
            }
          },
          "metadata": {}
        },
        {
          "output_type": "display_data",
          "data": {
            "text/plain": "1_Pooling%2Fconfig.json:   0%|          | 0.00/296 [00:00<?, ?B/s]",
            "application/vnd.jupyter.widget-view+json": {
              "version_major": 2,
              "version_minor": 0,
              "model_id": "545968cec5ea428a8db7a3b9a01d97b9"
            }
          },
          "metadata": {}
        },
        {
          "output_type": "display_data",
          "data": {
            "text/plain": "modules.json:   0%|          | 0.00/229 [00:00<?, ?B/s]",
            "application/vnd.jupyter.widget-view+json": {
              "version_major": 2,
              "version_minor": 0,
              "model_id": "ec189fc1534244d8a08c25b3a4c810cf"
            }
          },
          "metadata": {}
        },
        {
          "output_type": "display_data",
          "data": {
            "text/plain": "config_sentence_transformers.json:   0%|          | 0.00/201 [00:00<?, ?B/s]",
            "application/vnd.jupyter.widget-view+json": {
              "version_major": 2,
              "version_minor": 0,
              "model_id": "7be888b049674a8d90eff63eeb4eaf0b"
            }
          },
          "metadata": {}
        },
        {
          "output_type": "display_data",
          "data": {
            "text/plain": "README.md:   0%|          | 0.00/20.4k [00:00<?, ?B/s]",
            "application/vnd.jupyter.widget-view+json": {
              "version_major": 2,
              "version_minor": 0,
              "model_id": "e03d372767a2428a8556973272e59284"
            }
          },
          "metadata": {}
        },
        {
          "output_type": "display_data",
          "data": {
            "text/plain": "sentence_bert_config.json:   0%|          | 0.00/53.0 [00:00<?, ?B/s]",
            "application/vnd.jupyter.widget-view+json": {
              "version_major": 2,
              "version_minor": 0,
              "model_id": "45f66cc5f98e440fb218b4746fa0a071"
            }
          },
          "metadata": {}
        },
        {
          "output_type": "display_data",
          "data": {
            "text/plain": "config.json:   0%|          | 0.00/851 [00:00<?, ?B/s]",
            "application/vnd.jupyter.widget-view+json": {
              "version_major": 2,
              "version_minor": 0,
              "model_id": "fdd5b3593e9c458c814f97af63f1784e"
            }
          },
          "metadata": {}
        },
        {
          "output_type": "display_data",
          "data": {
            "text/plain": "model.safetensors:   0%|          | 0.00/711M [00:00<?, ?B/s]",
            "application/vnd.jupyter.widget-view+json": {
              "version_major": 2,
              "version_minor": 0,
              "model_id": "5b8cff9e379c4d518d9c4d7dc00cdfaf"
            }
          },
          "metadata": {}
        },
        {
          "output_type": "display_data",
          "data": {
            "text/plain": "tokenizer_config.json:   0%|          | 0.00/1.24k [00:00<?, ?B/s]",
            "application/vnd.jupyter.widget-view+json": {
              "version_major": 2,
              "version_minor": 0,
              "model_id": "69d6eac1a51c45358c927812c08a0a32"
            }
          },
          "metadata": {}
        },
        {
          "output_type": "display_data",
          "data": {
            "text/plain": "vocab.txt:   0%|          | 0.00/996k [00:00<?, ?B/s]",
            "application/vnd.jupyter.widget-view+json": {
              "version_major": 2,
              "version_minor": 0,
              "model_id": "8403eb6fd708494eb06a38f207e0551e"
            }
          },
          "metadata": {}
        },
        {
          "output_type": "display_data",
          "data": {
            "text/plain": "tokenizer.json:   0%|          | 0.00/2.92M [00:00<?, ?B/s]",
            "application/vnd.jupyter.widget-view+json": {
              "version_major": 2,
              "version_minor": 0,
              "model_id": "600c5d2617e846c0be2857e77c75c0a3"
            }
          },
          "metadata": {}
        },
        {
          "output_type": "display_data",
          "data": {
            "text/plain": "special_tokens_map.json:   0%|          | 0.00/125 [00:00<?, ?B/s]",
            "application/vnd.jupyter.widget-view+json": {
              "version_major": 2,
              "version_minor": 0,
              "model_id": "b6cec21703fc46d0afb89eb134c7ecd6"
            }
          },
          "metadata": {}
        },
        {
          "output_type": "display_data",
          "data": {
            "text/plain": "1_Pooling%2Fconfig.json:   0%|          | 0.00/296 [00:00<?, ?B/s]",
            "application/vnd.jupyter.widget-view+json": {
              "version_major": 2,
              "version_minor": 0,
              "model_id": "b9a458465b3f4368a2b8ab62b98cbf19"
            }
          },
          "metadata": {}
        },
        {
          "output_type": "display_data",
          "data": {
            "text/plain": "modules.json:   0%|          | 0.00/229 [00:00<?, ?B/s]",
            "application/vnd.jupyter.widget-view+json": {
              "version_major": 2,
              "version_minor": 0,
              "model_id": "27b24e586d3c44458161a152d89d3cb4"
            }
          },
          "metadata": {}
        },
        {
          "output_type": "display_data",
          "data": {
            "text/plain": "config_sentence_transformers.json:   0%|          | 0.00/199 [00:00<?, ?B/s]",
            "application/vnd.jupyter.widget-view+json": {
              "version_major": 2,
              "version_minor": 0,
              "model_id": "4563b31fe2de4055ac7a0df84724bd68"
            }
          },
          "metadata": {}
        },
        {
          "output_type": "display_data",
          "data": {
            "text/plain": "README.md:   0%|          | 0.00/35.4k [00:00<?, ?B/s]",
            "application/vnd.jupyter.widget-view+json": {
              "version_major": 2,
              "version_minor": 0,
              "model_id": "a5f4f2ea63724a0e88a56cf8acaea484"
            }
          },
          "metadata": {}
        },
        {
          "output_type": "display_data",
          "data": {
            "text/plain": "sentence_bert_config.json:   0%|          | 0.00/53.0 [00:00<?, ?B/s]",
            "application/vnd.jupyter.widget-view+json": {
              "version_major": 2,
              "version_minor": 0,
              "model_id": "090fb407d58d4c3189f392edabfd349c"
            }
          },
          "metadata": {}
        },
        {
          "output_type": "display_data",
          "data": {
            "text/plain": "config.json:   0%|          | 0.00/701 [00:00<?, ?B/s]",
            "application/vnd.jupyter.widget-view+json": {
              "version_major": 2,
              "version_minor": 0,
              "model_id": "81cae3996d974a00a0d7e068e0993479"
            }
          },
          "metadata": {}
        },
        {
          "output_type": "display_data",
          "data": {
            "text/plain": "model.safetensors:   0%|          | 0.00/471M [00:00<?, ?B/s]",
            "application/vnd.jupyter.widget-view+json": {
              "version_major": 2,
              "version_minor": 0,
              "model_id": "393ae307b2144aea85717fd93a5e7e69"
            }
          },
          "metadata": {}
        },
        {
          "output_type": "display_data",
          "data": {
            "text/plain": "tokenizer_config.json:   0%|          | 0.00/1.42k [00:00<?, ?B/s]",
            "application/vnd.jupyter.widget-view+json": {
              "version_major": 2,
              "version_minor": 0,
              "model_id": "b19ca75feba645f6a25fa2bb9d9e8c7d"
            }
          },
          "metadata": {}
        },
        {
          "output_type": "display_data",
          "data": {
            "text/plain": "tokenizer.json:   0%|          | 0.00/17.1M [00:00<?, ?B/s]",
            "application/vnd.jupyter.widget-view+json": {
              "version_major": 2,
              "version_minor": 0,
              "model_id": "507afd022174466b9fffa8611eaabd47"
            }
          },
          "metadata": {}
        },
        {
          "output_type": "display_data",
          "data": {
            "text/plain": "special_tokens_map.json:   0%|          | 0.00/964 [00:00<?, ?B/s]",
            "application/vnd.jupyter.widget-view+json": {
              "version_major": 2,
              "version_minor": 0,
              "model_id": "dddc05418cb14c14ba72671af583a6fd"
            }
          },
          "metadata": {}
        },
        {
          "output_type": "display_data",
          "data": {
            "text/plain": "1_Pooling%2Fconfig.json:   0%|          | 0.00/296 [00:00<?, ?B/s]",
            "application/vnd.jupyter.widget-view+json": {
              "version_major": 2,
              "version_minor": 0,
              "model_id": "cbe4eb7e493e4932881b1fe3e3f9439d"
            }
          },
          "metadata": {}
        },
        {
          "output_type": "display_data",
          "data": {
            "text/plain": "modules.json:   0%|          | 0.00/229 [00:00<?, ?B/s]",
            "application/vnd.jupyter.widget-view+json": {
              "version_major": 2,
              "version_minor": 0,
              "model_id": "0aa001d8b64d42bea65912aca2378e75"
            }
          },
          "metadata": {}
        },
        {
          "output_type": "display_data",
          "data": {
            "text/plain": "config_sentence_transformers.json:   0%|          | 0.00/199 [00:00<?, ?B/s]",
            "application/vnd.jupyter.widget-view+json": {
              "version_major": 2,
              "version_minor": 0,
              "model_id": "75e7bb556a6742fc9a0629b9fe4a6d6b"
            }
          },
          "metadata": {}
        },
        {
          "output_type": "display_data",
          "data": {
            "text/plain": "README.md:   0%|          | 0.00/35.4k [00:00<?, ?B/s]",
            "application/vnd.jupyter.widget-view+json": {
              "version_major": 2,
              "version_minor": 0,
              "model_id": "b431294fcdfe495aa5b231d98bc81992"
            }
          },
          "metadata": {}
        },
        {
          "output_type": "display_data",
          "data": {
            "text/plain": "sentence_bert_config.json:   0%|          | 0.00/53.0 [00:00<?, ?B/s]",
            "application/vnd.jupyter.widget-view+json": {
              "version_major": 2,
              "version_minor": 0,
              "model_id": "1703f25be9b54223a4d4089618f5b9fc"
            }
          },
          "metadata": {}
        },
        {
          "output_type": "display_data",
          "data": {
            "text/plain": "config.json:   0%|          | 0.00/701 [00:00<?, ?B/s]",
            "application/vnd.jupyter.widget-view+json": {
              "version_major": 2,
              "version_minor": 0,
              "model_id": "8c84a9f404bf4b33b34eced6625e4ffc"
            }
          },
          "metadata": {}
        },
        {
          "output_type": "display_data",
          "data": {
            "text/plain": "model.safetensors:   0%|          | 0.00/471M [00:00<?, ?B/s]",
            "application/vnd.jupyter.widget-view+json": {
              "version_major": 2,
              "version_minor": 0,
              "model_id": "27aae12279954c87bb69b91afd228677"
            }
          },
          "metadata": {}
        },
        {
          "output_type": "display_data",
          "data": {
            "text/plain": "tokenizer_config.json:   0%|          | 0.00/1.42k [00:00<?, ?B/s]",
            "application/vnd.jupyter.widget-view+json": {
              "version_major": 2,
              "version_minor": 0,
              "model_id": "6eeabad4180d42d4903b91c85640034d"
            }
          },
          "metadata": {}
        },
        {
          "output_type": "display_data",
          "data": {
            "text/plain": "tokenizer.json:   0%|          | 0.00/17.1M [00:00<?, ?B/s]",
            "application/vnd.jupyter.widget-view+json": {
              "version_major": 2,
              "version_minor": 0,
              "model_id": "bf9d24654cd945c6ad0e0bfebf37981c"
            }
          },
          "metadata": {}
        },
        {
          "output_type": "display_data",
          "data": {
            "text/plain": "special_tokens_map.json:   0%|          | 0.00/964 [00:00<?, ?B/s]",
            "application/vnd.jupyter.widget-view+json": {
              "version_major": 2,
              "version_minor": 0,
              "model_id": "5656b76c87ab4fb091355f4441753976"
            }
          },
          "metadata": {}
        },
        {
          "output_type": "display_data",
          "data": {
            "text/plain": "1_Pooling%2Fconfig.json:   0%|          | 0.00/296 [00:00<?, ?B/s]",
            "application/vnd.jupyter.widget-view+json": {
              "version_major": 2,
              "version_minor": 0,
              "model_id": "c38fc8dfe93747ba91e6929851e156b1"
            }
          },
          "metadata": {}
        },
        {
          "output_type": "display_data",
          "data": {
            "text/plain": "config.json:   0%|          | 0.00/977 [00:00<?, ?B/s]",
            "application/vnd.jupyter.widget-view+json": {
              "version_major": 2,
              "version_minor": 0,
              "model_id": "a28a80ccc1bb4b4d92f10968a98369e7"
            }
          },
          "metadata": {}
        },
        {
          "output_type": "display_data",
          "data": {
            "text/plain": "model.safetensors:   0%|          | 0.00/541M [00:00<?, ?B/s]",
            "application/vnd.jupyter.widget-view+json": {
              "version_major": 2,
              "version_minor": 0,
              "model_id": "7245852ff4e94469af2f7f87cb123ee6"
            }
          },
          "metadata": {}
        },
        {
          "output_type": "display_data",
          "data": {
            "text/plain": "tokenizer_config.json:   0%|          | 0.00/1.83k [00:00<?, ?B/s]",
            "application/vnd.jupyter.widget-view+json": {
              "version_major": 2,
              "version_minor": 0,
              "model_id": "3053ec6c5186474a9a25fdf3914be16e"
            }
          },
          "metadata": {}
        },
        {
          "output_type": "display_data",
          "data": {
            "text/plain": "vocab.txt:   0%|          | 0.00/761k [00:00<?, ?B/s]",
            "application/vnd.jupyter.widget-view+json": {
              "version_major": 2,
              "version_minor": 0,
              "model_id": "2e3768676cbf408c86bb2211ddadf174"
            }
          },
          "metadata": {}
        },
        {
          "output_type": "display_data",
          "data": {
            "text/plain": "tokenizer.json:   0%|          | 0.00/1.78M [00:00<?, ?B/s]",
            "application/vnd.jupyter.widget-view+json": {
              "version_major": 2,
              "version_minor": 0,
              "model_id": "738fafe2a94c495dbcb0f4c8fccd58e9"
            }
          },
          "metadata": {}
        },
        {
          "output_type": "display_data",
          "data": {
            "text/plain": "special_tokens_map.json:   0%|          | 0.00/695 [00:00<?, ?B/s]",
            "application/vnd.jupyter.widget-view+json": {
              "version_major": 2,
              "version_minor": 0,
              "model_id": "960ebb928a5f44ffb8723d1dcde38074"
            }
          },
          "metadata": {}
        },
        {
          "output_type": "display_data",
          "data": {
            "text/plain": "config.json:   0%|          | 0.00/977 [00:00<?, ?B/s]",
            "application/vnd.jupyter.widget-view+json": {
              "version_major": 2,
              "version_minor": 0,
              "model_id": "bfd28efdbfe84e0c96bf815a83da8396"
            }
          },
          "metadata": {}
        },
        {
          "output_type": "display_data",
          "data": {
            "text/plain": "model.safetensors:   0%|          | 0.00/541M [00:00<?, ?B/s]",
            "application/vnd.jupyter.widget-view+json": {
              "version_major": 2,
              "version_minor": 0,
              "model_id": "7c24175a001b4374b11b2b27fcde7d33"
            }
          },
          "metadata": {}
        },
        {
          "output_type": "display_data",
          "data": {
            "text/plain": "tokenizer_config.json:   0%|          | 0.00/1.83k [00:00<?, ?B/s]",
            "application/vnd.jupyter.widget-view+json": {
              "version_major": 2,
              "version_minor": 0,
              "model_id": "dfbf343cc64b4fed90e6db57a9ce3494"
            }
          },
          "metadata": {}
        },
        {
          "output_type": "display_data",
          "data": {
            "text/plain": "vocab.txt:   0%|          | 0.00/761k [00:00<?, ?B/s]",
            "application/vnd.jupyter.widget-view+json": {
              "version_major": 2,
              "version_minor": 0,
              "model_id": "b6c2594bc2564719ae2606662b9514f8"
            }
          },
          "metadata": {}
        },
        {
          "output_type": "display_data",
          "data": {
            "text/plain": "tokenizer.json:   0%|          | 0.00/1.78M [00:00<?, ?B/s]",
            "application/vnd.jupyter.widget-view+json": {
              "version_major": 2,
              "version_minor": 0,
              "model_id": "749780aa2a454d758ffe6def00419819"
            }
          },
          "metadata": {}
        },
        {
          "output_type": "display_data",
          "data": {
            "text/plain": "special_tokens_map.json:   0%|          | 0.00/695 [00:00<?, ?B/s]",
            "application/vnd.jupyter.widget-view+json": {
              "version_major": 2,
              "version_minor": 0,
              "model_id": "c39d3eee15f74e07830bcf27a818cb57"
            }
          },
          "metadata": {}
        },
        {
          "output_type": "display_data",
          "data": {
            "text/plain": "config.json:   0%|          | 0.00/997 [00:00<?, ?B/s]",
            "application/vnd.jupyter.widget-view+json": {
              "version_major": 2,
              "version_minor": 0,
              "model_id": "966f8366eb704950a415110b7bbec463"
            }
          },
          "metadata": {}
        },
        {
          "output_type": "display_data",
          "data": {
            "text/plain": "model.safetensors:   0%|          | 0.00/711M [00:00<?, ?B/s]",
            "application/vnd.jupyter.widget-view+json": {
              "version_major": 2,
              "version_minor": 0,
              "model_id": "e420baef000e402dadcb94da016e3f16"
            }
          },
          "metadata": {}
        },
        {
          "output_type": "display_data",
          "data": {
            "text/plain": "tokenizer_config.json:   0%|          | 0.00/1.24k [00:00<?, ?B/s]",
            "application/vnd.jupyter.widget-view+json": {
              "version_major": 2,
              "version_minor": 0,
              "model_id": "cce5fb94b3124460a9f10364ca73b3cf"
            }
          },
          "metadata": {}
        },
        {
          "output_type": "display_data",
          "data": {
            "text/plain": "vocab.txt:   0%|          | 0.00/996k [00:00<?, ?B/s]",
            "application/vnd.jupyter.widget-view+json": {
              "version_major": 2,
              "version_minor": 0,
              "model_id": "d9d79bcbef07400b887eb57f5e5c789e"
            }
          },
          "metadata": {}
        },
        {
          "output_type": "display_data",
          "data": {
            "text/plain": "tokenizer.json:   0%|          | 0.00/2.92M [00:00<?, ?B/s]",
            "application/vnd.jupyter.widget-view+json": {
              "version_major": 2,
              "version_minor": 0,
              "model_id": "ab17e92af164443591803268d1684c82"
            }
          },
          "metadata": {}
        },
        {
          "output_type": "display_data",
          "data": {
            "text/plain": "special_tokens_map.json:   0%|          | 0.00/125 [00:00<?, ?B/s]",
            "application/vnd.jupyter.widget-view+json": {
              "version_major": 2,
              "version_minor": 0,
              "model_id": "40608fb7969b446eab2f71f1061359f2"
            }
          },
          "metadata": {}
        },
        {
          "output_type": "display_data",
          "data": {
            "text/plain": "config.json:   0%|          | 0.00/997 [00:00<?, ?B/s]",
            "application/vnd.jupyter.widget-view+json": {
              "version_major": 2,
              "version_minor": 0,
              "model_id": "cbfe075bc25f48ccac88e5672788e492"
            }
          },
          "metadata": {}
        },
        {
          "output_type": "display_data",
          "data": {
            "text/plain": "model.safetensors:   0%|          | 0.00/711M [00:00<?, ?B/s]",
            "application/vnd.jupyter.widget-view+json": {
              "version_major": 2,
              "version_minor": 0,
              "model_id": "9ecc88db6cdb4f4d903cdab09b80a53b"
            }
          },
          "metadata": {}
        },
        {
          "output_type": "display_data",
          "data": {
            "text/plain": "tokenizer_config.json:   0%|          | 0.00/1.24k [00:00<?, ?B/s]",
            "application/vnd.jupyter.widget-view+json": {
              "version_major": 2,
              "version_minor": 0,
              "model_id": "9038e94b00ea452db1eea5ba808ca925"
            }
          },
          "metadata": {}
        },
        {
          "output_type": "display_data",
          "data": {
            "text/plain": "vocab.txt:   0%|          | 0.00/996k [00:00<?, ?B/s]",
            "application/vnd.jupyter.widget-view+json": {
              "version_major": 2,
              "version_minor": 0,
              "model_id": "16d8b550d33344d5932b50babb5e1483"
            }
          },
          "metadata": {}
        },
        {
          "output_type": "display_data",
          "data": {
            "text/plain": "tokenizer.json:   0%|          | 0.00/2.92M [00:00<?, ?B/s]",
            "application/vnd.jupyter.widget-view+json": {
              "version_major": 2,
              "version_minor": 0,
              "model_id": "99fa8cefd58b435fa83f7018c5a20073"
            }
          },
          "metadata": {}
        },
        {
          "output_type": "display_data",
          "data": {
            "text/plain": "special_tokens_map.json:   0%|          | 0.00/125 [00:00<?, ?B/s]",
            "application/vnd.jupyter.widget-view+json": {
              "version_major": 2,
              "version_minor": 0,
              "model_id": "9b4030617bdb451680d1023d23f20864"
            }
          },
          "metadata": {}
        },
        {
          "output_type": "display_data",
          "data": {
            "text/plain": "config.json:   0%|          | 0.00/847 [00:00<?, ?B/s]",
            "application/vnd.jupyter.widget-view+json": {
              "version_major": 2,
              "version_minor": 0,
              "model_id": "9eb108e4105b48b98ce74a70ce96c073"
            }
          },
          "metadata": {}
        },
        {
          "output_type": "display_data",
          "data": {
            "text/plain": "model.safetensors:   0%|          | 0.00/471M [00:00<?, ?B/s]",
            "application/vnd.jupyter.widget-view+json": {
              "version_major": 2,
              "version_minor": 0,
              "model_id": "3a271e3e9c1e4a118107e584a5e02e46"
            }
          },
          "metadata": {}
        },
        {
          "output_type": "display_data",
          "data": {
            "text/plain": "tokenizer_config.json:   0%|          | 0.00/1.42k [00:00<?, ?B/s]",
            "application/vnd.jupyter.widget-view+json": {
              "version_major": 2,
              "version_minor": 0,
              "model_id": "eeff399ee4074743a637e0b2f06bb343"
            }
          },
          "metadata": {}
        },
        {
          "output_type": "display_data",
          "data": {
            "text/plain": "tokenizer.json:   0%|          | 0.00/17.1M [00:00<?, ?B/s]",
            "application/vnd.jupyter.widget-view+json": {
              "version_major": 2,
              "version_minor": 0,
              "model_id": "c6f573c4f1ab44d08fe67115e686c663"
            }
          },
          "metadata": {}
        },
        {
          "output_type": "display_data",
          "data": {
            "text/plain": "special_tokens_map.json:   0%|          | 0.00/964 [00:00<?, ?B/s]",
            "application/vnd.jupyter.widget-view+json": {
              "version_major": 2,
              "version_minor": 0,
              "model_id": "e092f2ce3ce14d03bd74962f0d6539da"
            }
          },
          "metadata": {}
        },
        {
          "output_type": "display_data",
          "data": {
            "text/plain": "config.json:   0%|          | 0.00/847 [00:00<?, ?B/s]",
            "application/vnd.jupyter.widget-view+json": {
              "version_major": 2,
              "version_minor": 0,
              "model_id": "5599664922854fe2bd987cb4b2024533"
            }
          },
          "metadata": {}
        },
        {
          "output_type": "display_data",
          "data": {
            "text/plain": "model.safetensors:   0%|          | 0.00/471M [00:00<?, ?B/s]",
            "application/vnd.jupyter.widget-view+json": {
              "version_major": 2,
              "version_minor": 0,
              "model_id": "b6df51be220241ffa285d07ff908e142"
            }
          },
          "metadata": {}
        },
        {
          "output_type": "display_data",
          "data": {
            "text/plain": "tokenizer_config.json:   0%|          | 0.00/1.42k [00:00<?, ?B/s]",
            "application/vnd.jupyter.widget-view+json": {
              "version_major": 2,
              "version_minor": 0,
              "model_id": "1595ceffb77b40e496be2b6fd37be8b8"
            }
          },
          "metadata": {}
        },
        {
          "output_type": "display_data",
          "data": {
            "text/plain": "tokenizer.json:   0%|          | 0.00/17.1M [00:00<?, ?B/s]",
            "application/vnd.jupyter.widget-view+json": {
              "version_major": 2,
              "version_minor": 0,
              "model_id": "4574121d8b86409b9d3f2ef3ba6336be"
            }
          },
          "metadata": {}
        },
        {
          "output_type": "display_data",
          "data": {
            "text/plain": "special_tokens_map.json:   0%|          | 0.00/964 [00:00<?, ?B/s]",
            "application/vnd.jupyter.widget-view+json": {
              "version_major": 2,
              "version_minor": 0,
              "model_id": "deec83661c0542ceb430015e616761f9"
            }
          },
          "metadata": {}
        }
      ],
      "execution_count": null
    },
    {
      "cell_type": "code",
      "source": [
        "for i in range(len(results)):\n",
        "    print(model_list[i])\n",
        "    print(results[i])\n",
        "    print(\"********************************************\")"
      ],
      "metadata": {
        "trusted": true,
        "execution": {
          "iopub.status.busy": "2024-12-30T08:27:49.912238Z",
          "iopub.execute_input": "2024-12-30T08:27:49.912716Z",
          "iopub.status.idle": "2024-12-30T08:27:49.918632Z",
          "shell.execute_reply.started": "2024-12-30T08:27:49.912682Z",
          "shell.execute_reply": "2024-12-30T08:27:49.917701Z"
        },
        "id": "X0Lz6-AP5Wr3"
      },
      "outputs": [],
      "execution_count": null
    }
  ]
}