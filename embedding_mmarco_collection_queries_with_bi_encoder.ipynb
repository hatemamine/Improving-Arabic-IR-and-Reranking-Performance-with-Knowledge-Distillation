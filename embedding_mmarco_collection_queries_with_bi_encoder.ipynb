{
  "metadata": {
    "kernelspec": {
      "language": "python",
      "display_name": "Python 3",
      "name": "python3"
    },
    "language_info": {
      "name": "python",
      "version": "3.10.12",
      "mimetype": "text/x-python",
      "codemirror_mode": {
        "name": "ipython",
        "version": 3
      },
      "pygments_lexer": "ipython3",
      "nbconvert_exporter": "python",
      "file_extension": ".py"
    },
    "kaggle": {
      "accelerator": "gpu",
      "dataSources": [],
      "isInternetEnabled": true,
      "language": "python",
      "sourceType": "notebook",
      "isGpuEnabled": true
    },
    "colab": {
      "provenance": [],
      "include_colab_link": true
    }
  },
  "nbformat_minor": 0,
  "nbformat": 4,
  "cells": [
    {
      "cell_type": "markdown",
      "metadata": {
        "id": "view-in-github",
        "colab_type": "text"
      },
      "source": [
        "<a href=\"https://colab.research.google.com/github/hatemamine/Improving-Arabic-IR-and-Reranking-Performance-with-Knowledge-Distillation/blob/main/embedding_mmarco_collection_queries_with_bi_encoder.ipynb\" target=\"_parent\"><img src=\"https://colab.research.google.com/assets/colab-badge.svg\" alt=\"Open In Colab\"/></a>"
      ]
    },
    {
      "cell_type": "markdown",
      "source": [
        "Improving Efficient Neural Ranking Models with Cross-Architecture Knowledge Distillation\n",
        "https://arxiv.org/pdf/2010.02666\n",
        "https://github.com/sebastian-hofstaetter/neural-ranking-kd\n",
        "https://zenodo.org/records/4068216\n",
        "https://sbert.net/docs/package_reference/sentence_transformer/losses.html#marginmseloss\n",
        "https://huggingface.co/datasets/unicamp-dl/mmarco\n",
        "instance Temperature Knowledge Distillation https://arxiv.org/pdf/2407.00115\n",
        "https://github.com/Zhengbo-Zhang/ITKD/tree/main\n",
        "ESE: Espresso Sentence Embeddings https://arxiv.org/pdf/2402.14776\n",
        "Making Monolingual Sentence Embeddings Multilingual using Knowledge Distillation https://aclanthology.org/2020.emnlp-main.365.pdf\n",
        "https://github.com/UKPLab/sentence-transformers/blob/master/examples/training/multilingual/make_multilingual.py\n",
        "https://www.sbert.net/examples/applications/retrieve_rerank/README.html\n",
        "https://www.sbert.net/examples/training/multilingual/README.html\n",
        "https://www.sbert.net/examples/training/distillation/README.html?highlight=knowledge%20distillation\n",
        "https://github.com/UKPLab/sentence-transformers/blob/master/examples/training/ms_marco/train_cross-encoder_kd.py\n",
        "https://github.com/UKPLab/sentence-transformers/blob/master/examples/training/distillation/model_distillation.py\n",
        "https://www.sbert.net/docs/sentence_transformer/pretrained_models.html\n",
        "https://www.sbert.net/docs/pretrained-models/msmarco-v5.html\n",
        "https://huggingface.co/sentence-transformers/msmarco-bert-base-dot-v5\n",
        "https://towardsdatascience.com/distillation-of-bert-like-models-the-code-73c31e8c2b0a\n",
        "https://huggingface.co/cross-encoder/ms-marco-MiniLM-L-12-v2?text=I+like+you.+I+love+you\n",
        "FastFormers: Highly Efficient Transformer Models for Natural Language Understanding https://arxiv.org/pdf/2010.13382\n",
        "https://github.com/philschmid/huggingface-sagemaker-workshop-series/blob/9f625c2c261db564532b0f9ec0ef6581c122fec3/workshop_4_distillation_and_acceleration/scripts/knowledge_distillation.py\n",
        "https://github.com/philschmid/huggingface-sagemaker-workshop-series/blob/main/workshop_4_distillation_and_acceleration/lab2_knowledge_distillation.ipynb"
      ],
      "metadata": {
        "id": "Zdg4SWHZD3jp"
      }
    },
    {
      "cell_type": "code",
      "source": [
        "!pip install -U datasets huggingface-hub -q\n",
        "!pip install sentence_transformers -q"
      ],
      "metadata": {
        "execution": {
          "iopub.status.busy": "2025-02-13T15:34:48.524497Z",
          "iopub.execute_input": "2025-02-13T15:34:48.524675Z",
          "iopub.status.idle": "2025-02-13T15:34:56.618496Z",
          "shell.execute_reply.started": "2025-02-13T15:34:48.524657Z",
          "shell.execute_reply": "2025-02-13T15:34:56.617425Z"
        },
        "trusted": true,
        "id": "6c0AsDEtD3j1"
      },
      "outputs": [],
      "execution_count": null
    },
    {
      "cell_type": "code",
      "source": [
        "organization_dataset_id=\"hatemestinbejaia/ExperimentDATA_knowledge_distillation_vs_fine_tuning\"\n",
        "collection_name = 'collection-arabic-preprocess-for-araelectra'\n",
        "queries_name = 'queries-arabic-preprocess-for-araelectra'\n",
        "list_of_models= [ \"hatemestinbejaia/mmarco-Arabic-AraElectra-bi-encoder-NoKD-v1\",\n",
        "              \"hatemestinbejaia/mmarco-Arabic-AraElectra-bi-encoder-KD-v1\",\n",
        "              \"hatemestinbejaia/mmarco-Arabic-AraDPR-bi-encoder-NoKD-v1\",\n",
        "              \"hatemestinbejaia/mmarco-Arabic-AraDPR-bi-encoder-KD-v1\",\n",
        "              \"hatemestinbejaia/mmarco-Arabic-mMiniLML-bi-encoder-NoKD-v1\",\n",
        "              \"hatemestinbejaia/mmarco-Arabic-mMiniLML-bi-encoder-KD-v1\",\n",
        "            ]\n",
        "model_name= list_of_models[5]\n",
        "print(model_name)\n",
        "\n",
        "from sentence_transformers import SentenceTransformer, util\n",
        "model = SentenceTransformer(model_name)\n",
        "print(model)\n",
        "model.eval()\n",
        "\n",
        "\n",
        "def embedding(batch):\n",
        "    with torch.no_grad(): batch[\"embedding\"] = model.encode(batch[\"text\"], convert_to_tensor=True, show_progress_bar=False, batch_size=128)\n",
        "    return batch"
      ],
      "metadata": {
        "execution": {
          "iopub.status.busy": "2025-02-13T15:46:48.249700Z",
          "iopub.execute_input": "2025-02-13T15:46:48.250061Z",
          "iopub.status.idle": "2025-02-13T15:46:51.323553Z",
          "shell.execute_reply.started": "2025-02-13T15:46:48.250033Z",
          "shell.execute_reply": "2025-02-13T15:46:51.322640Z"
        },
        "trusted": true,
        "id": "sZVks4xLD3j5",
        "outputId": "5ac428a9-da8b-45f4-d09f-19f6d090e189"
      },
      "outputs": [
        {
          "name": "stdout",
          "text": "hatemestinbejaia/mmarco-Arabic-mMiniLML-bi-encoder-KD-v1\nSentenceTransformer(\n  (0): Transformer({'max_seq_length': 128, 'do_lower_case': False}) with Transformer model: BertModel \n  (1): Pooling({'word_embedding_dimension': 384, 'pooling_mode_cls_token': False, 'pooling_mode_mean_tokens': True, 'pooling_mode_max_tokens': False, 'pooling_mode_mean_sqrt_len_tokens': False, 'pooling_mode_weightedmean_tokens': False, 'pooling_mode_lasttoken': False, 'include_prompt': True})\n)\n",
          "output_type": "stream"
        }
      ],
      "execution_count": null
    },
    {
      "cell_type": "code",
      "source": [
        "from datasets import load_dataset\n",
        "datasetC = load_dataset(organization_dataset_id, collection_name, trust_remote_code=True)\n",
        "datasetC['collection'][100]\n",
        "print(datasetC)\n",
        "import torch\n",
        "datasetC= datasetC.map(embedding, batched=True, remove_columns=[\"text\"])"
      ],
      "metadata": {
        "execution": {
          "iopub.status.busy": "2025-02-13T15:49:19.481072Z",
          "iopub.execute_input": "2025-02-13T15:49:19.481397Z",
          "execution_failed": "2025-02-13T15:52:20.901Z"
        },
        "trusted": true,
        "id": "aFgBFFjzD3j-",
        "outputId": "3769a384-e5e6-43f9-be84-67875d0f7ba7",
        "colab": {
          "referenced_widgets": [
            "7a00d2c5e3194b3baada1bd13f907388",
            "01719dc76412475b9cff5ae30f3c77f3",
            "1048b2d4b55d4d5dacc0b656c3b5b432",
            "9554a5bac28146e1b3d46851caac3693",
            "4ae00d66c1f847cab16083a420c07fde",
            "fc500c93c821490d8e14789b8043c360",
            "d51c60dee29e49048ad8e1c67224af1e",
            "e0e4ab2dccec4d089ce35ab2b8d57585",
            "c2f1f892c65844528136b9cb69bd9258",
            "8456503822204da68840c1664d519908",
            "4155f363b0584bd39d6a7b443aca9b74",
            "1ca9be915b6e4cc983eba2fd7536d47f"
          ]
        }
      },
      "outputs": [
        {
          "output_type": "display_data",
          "data": {
            "text/plain": "collection-00000-of-00010.parquet:   0%|          | 0.00/208M [00:00<?, ?B/s]",
            "application/vnd.jupyter.widget-view+json": {
              "version_major": 2,
              "version_minor": 0,
              "model_id": "7a00d2c5e3194b3baada1bd13f907388"
            }
          },
          "metadata": {}
        },
        {
          "output_type": "display_data",
          "data": {
            "text/plain": "collection-00001-of-00010.parquet:   0%|          | 0.00/208M [00:00<?, ?B/s]",
            "application/vnd.jupyter.widget-view+json": {
              "version_major": 2,
              "version_minor": 0,
              "model_id": "01719dc76412475b9cff5ae30f3c77f3"
            }
          },
          "metadata": {}
        },
        {
          "output_type": "display_data",
          "data": {
            "text/plain": "collection-00002-of-00010.parquet:   0%|          | 0.00/210M [00:00<?, ?B/s]",
            "application/vnd.jupyter.widget-view+json": {
              "version_major": 2,
              "version_minor": 0,
              "model_id": "1048b2d4b55d4d5dacc0b656c3b5b432"
            }
          },
          "metadata": {}
        },
        {
          "output_type": "display_data",
          "data": {
            "text/plain": "collection-00003-of-00010.parquet:   0%|          | 0.00/210M [00:00<?, ?B/s]",
            "application/vnd.jupyter.widget-view+json": {
              "version_major": 2,
              "version_minor": 0,
              "model_id": "9554a5bac28146e1b3d46851caac3693"
            }
          },
          "metadata": {}
        },
        {
          "output_type": "display_data",
          "data": {
            "text/plain": "collection-00004-of-00010.parquet:   0%|          | 0.00/211M [00:00<?, ?B/s]",
            "application/vnd.jupyter.widget-view+json": {
              "version_major": 2,
              "version_minor": 0,
              "model_id": "4ae00d66c1f847cab16083a420c07fde"
            }
          },
          "metadata": {}
        },
        {
          "output_type": "display_data",
          "data": {
            "text/plain": "collection-00005-of-00010.parquet:   0%|          | 0.00/212M [00:00<?, ?B/s]",
            "application/vnd.jupyter.widget-view+json": {
              "version_major": 2,
              "version_minor": 0,
              "model_id": "fc500c93c821490d8e14789b8043c360"
            }
          },
          "metadata": {}
        },
        {
          "output_type": "display_data",
          "data": {
            "text/plain": "collection-00006-of-00010.parquet:   0%|          | 0.00/214M [00:00<?, ?B/s]",
            "application/vnd.jupyter.widget-view+json": {
              "version_major": 2,
              "version_minor": 0,
              "model_id": "d51c60dee29e49048ad8e1c67224af1e"
            }
          },
          "metadata": {}
        },
        {
          "output_type": "display_data",
          "data": {
            "text/plain": "collection-00007-of-00010.parquet:   0%|          | 0.00/216M [00:00<?, ?B/s]",
            "application/vnd.jupyter.widget-view+json": {
              "version_major": 2,
              "version_minor": 0,
              "model_id": "e0e4ab2dccec4d089ce35ab2b8d57585"
            }
          },
          "metadata": {}
        },
        {
          "output_type": "display_data",
          "data": {
            "text/plain": "collection-00008-of-00010.parquet:   0%|          | 0.00/208M [00:00<?, ?B/s]",
            "application/vnd.jupyter.widget-view+json": {
              "version_major": 2,
              "version_minor": 0,
              "model_id": "c2f1f892c65844528136b9cb69bd9258"
            }
          },
          "metadata": {}
        },
        {
          "output_type": "display_data",
          "data": {
            "text/plain": "collection-00009-of-00010.parquet:   0%|          | 0.00/208M [00:00<?, ?B/s]",
            "application/vnd.jupyter.widget-view+json": {
              "version_major": 2,
              "version_minor": 0,
              "model_id": "8456503822204da68840c1664d519908"
            }
          },
          "metadata": {}
        },
        {
          "output_type": "display_data",
          "data": {
            "text/plain": "Generating collection split:   0%|          | 0/8841823 [00:00<?, ? examples/s]",
            "application/vnd.jupyter.widget-view+json": {
              "version_major": 2,
              "version_minor": 0,
              "model_id": "4155f363b0584bd39d6a7b443aca9b74"
            }
          },
          "metadata": {}
        },
        {
          "name": "stdout",
          "text": "DatasetDict({\n    collection: Dataset({\n        features: ['id', 'text'],\n        num_rows: 8841823\n    })\n})\n",
          "output_type": "stream"
        },
        {
          "output_type": "display_data",
          "data": {
            "text/plain": "Map:   0%|          | 0/8841823 [00:00<?, ? examples/s]",
            "application/vnd.jupyter.widget-view+json": {
              "version_major": 2,
              "version_minor": 0,
              "model_id": "1ca9be915b6e4cc983eba2fd7536d47f"
            }
          },
          "metadata": {}
        }
      ],
      "execution_count": null
    },
    {
      "cell_type": "code",
      "source": [
        "from datasets import load_dataset\n",
        "datasetQ = load_dataset(organization_dataset_id, queries_name, trust_remote_code=True)\n",
        "print(datasetQ)\n",
        "datasetQ = datasetQ[\"dev\"]\n",
        "print(datasetQ)\n",
        "import torch\n",
        "datasetQ= datasetQ.map(embedding, batched=True)\n",
        "datasetQ"
      ],
      "metadata": {
        "execution": {
          "iopub.status.busy": "2025-02-13T15:47:42.109231Z",
          "iopub.execute_input": "2025-02-13T15:47:42.109554Z",
          "iopub.status.idle": "2025-02-13T15:47:56.160579Z",
          "shell.execute_reply.started": "2025-02-13T15:47:42.109529Z",
          "shell.execute_reply": "2025-02-13T15:47:56.159923Z"
        },
        "trusted": true,
        "id": "Etiq4KARD3kB",
        "outputId": "b2460072-f554-44e2-d4d8-316f342fbdb2",
        "colab": {
          "referenced_widgets": [
            "f5214a37c570455ba1e66ba7d8cb14b0",
            "9f902240116b48f58ce91c4811c41e67",
            "7439ada358ca4ad5a83e9f3a26d809dd",
            "542a074717df44f7af5585f5bbcbbf45",
            "1a0cc380f48048cfa3e4dfa6c320a53f",
            "14f821ca58a2453486910e1bb7f301f1",
            "8f14422da50942909d53168a8bef4f51",
            "d2b1c14903594d79a93c193db6d1b55b"
          ]
        }
      },
      "outputs": [
        {
          "output_type": "display_data",
          "data": {
            "text/plain": "README.md:   0%|          | 0.00/27.2k [00:00<?, ?B/s]",
            "application/vnd.jupyter.widget-view+json": {
              "version_major": 2,
              "version_minor": 0,
              "model_id": "f5214a37c570455ba1e66ba7d8cb14b0"
            }
          },
          "metadata": {}
        },
        {
          "output_type": "display_data",
          "data": {
            "text/plain": "train-00000-of-00001.parquet:   0%|          | 0.00/26.5M [00:00<?, ?B/s]",
            "application/vnd.jupyter.widget-view+json": {
              "version_major": 2,
              "version_minor": 0,
              "model_id": "9f902240116b48f58ce91c4811c41e67"
            }
          },
          "metadata": {}
        },
        {
          "output_type": "display_data",
          "data": {
            "text/plain": "dev.full-00000-of-00001.parquet:   0%|          | 0.00/3.63M [00:00<?, ?B/s]",
            "application/vnd.jupyter.widget-view+json": {
              "version_major": 2,
              "version_minor": 0,
              "model_id": "7439ada358ca4ad5a83e9f3a26d809dd"
            }
          },
          "metadata": {}
        },
        {
          "output_type": "display_data",
          "data": {
            "text/plain": "dev-00000-of-00001.parquet:   0%|          | 0.00/248k [00:00<?, ?B/s]",
            "application/vnd.jupyter.widget-view+json": {
              "version_major": 2,
              "version_minor": 0,
              "model_id": "542a074717df44f7af5585f5bbcbbf45"
            }
          },
          "metadata": {}
        },
        {
          "output_type": "display_data",
          "data": {
            "text/plain": "Generating train split:   0%|          | 0/808731 [00:00<?, ? examples/s]",
            "application/vnd.jupyter.widget-view+json": {
              "version_major": 2,
              "version_minor": 0,
              "model_id": "1a0cc380f48048cfa3e4dfa6c320a53f"
            }
          },
          "metadata": {}
        },
        {
          "output_type": "display_data",
          "data": {
            "text/plain": "Generating dev.full split:   0%|          | 0/101093 [00:00<?, ? examples/s]",
            "application/vnd.jupyter.widget-view+json": {
              "version_major": 2,
              "version_minor": 0,
              "model_id": "14f821ca58a2453486910e1bb7f301f1"
            }
          },
          "metadata": {}
        },
        {
          "output_type": "display_data",
          "data": {
            "text/plain": "Generating dev split:   0%|          | 0/6980 [00:00<?, ? examples/s]",
            "application/vnd.jupyter.widget-view+json": {
              "version_major": 2,
              "version_minor": 0,
              "model_id": "8f14422da50942909d53168a8bef4f51"
            }
          },
          "metadata": {}
        },
        {
          "name": "stdout",
          "text": "DatasetDict({\n    train: Dataset({\n        features: ['id', 'text'],\n        num_rows: 808731\n    })\n    dev.full: Dataset({\n        features: ['id', 'text'],\n        num_rows: 101093\n    })\n    dev: Dataset({\n        features: ['id', 'text'],\n        num_rows: 6980\n    })\n})\nDataset({\n    features: ['id', 'text'],\n    num_rows: 6980\n})\n",
          "output_type": "stream"
        },
        {
          "output_type": "display_data",
          "data": {
            "text/plain": "Map:   0%|          | 0/6980 [00:00<?, ? examples/s]",
            "application/vnd.jupyter.widget-view+json": {
              "version_major": 2,
              "version_minor": 0,
              "model_id": "d2b1c14903594d79a93c193db6d1b55b"
            }
          },
          "metadata": {}
        },
        {
          "execution_count": 6,
          "output_type": "execute_result",
          "data": {
            "text/plain": "Dataset({\n    features: ['id', 'text', 'embedding'],\n    num_rows: 6980\n})"
          },
          "metadata": {}
        }
      ],
      "execution_count": null
    },
    {
      "cell_type": "code",
      "source": [
        "# uncomment to push to yours huggingface repository\n",
        "\"\"\"\n",
        "import huggingface_hub\n",
        "hf = huggingface_hub.HfFolder()\n",
        "access_token = \"your huggingface access token\"\n",
        "hf.save_token(access_token)\n",
        "datasetC.push_to_hub(organization_dataset_id, \"mmarco-collection-arabic-embedding-\"+model_name.split(\"/\")[1])\n",
        "datasetQ.push_to_hub(organization_dataset_id, \"mmarco-queries-arabic-embedding-\"+model_name.split(\"/\")[1])\n",
        "\"\"\""
      ],
      "metadata": {
        "execution": {
          "iopub.status.busy": "2024-12-08T18:25:07.386310Z",
          "iopub.execute_input": "2024-12-08T18:25:07.386673Z",
          "iopub.status.idle": "2024-12-08T18:25:21.195638Z",
          "shell.execute_reply.started": "2024-12-08T18:25:07.386644Z",
          "shell.execute_reply": "2024-12-08T18:25:21.194076Z"
        },
        "trusted": true,
        "id": "FQSbdAOoD3kD"
      },
      "outputs": [],
      "execution_count": null
    }
  ]
}