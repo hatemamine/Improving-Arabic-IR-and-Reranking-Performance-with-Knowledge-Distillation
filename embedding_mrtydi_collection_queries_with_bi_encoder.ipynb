{
  "metadata": {
    "kernelspec": {
      "language": "python",
      "display_name": "Python 3",
      "name": "python3"
    },
    "language_info": {
      "name": "python",
      "version": "3.10.12",
      "mimetype": "text/x-python",
      "codemirror_mode": {
        "name": "ipython",
        "version": 3
      },
      "pygments_lexer": "ipython3",
      "nbconvert_exporter": "python",
      "file_extension": ".py"
    },
    "kaggle": {
      "accelerator": "gpu",
      "dataSources": [],
      "isInternetEnabled": true,
      "language": "python",
      "sourceType": "notebook",
      "isGpuEnabled": true
    },
    "colab": {
      "provenance": [],
      "include_colab_link": true
    }
  },
  "nbformat_minor": 0,
  "nbformat": 4,
  "cells": [
    {
      "cell_type": "markdown",
      "metadata": {
        "id": "view-in-github",
        "colab_type": "text"
      },
      "source": [
        "<a href=\"https://colab.research.google.com/github/hatemamine/Improving-Arabic-IR-and-Reranking-Performance-with-Knowledge-Distillation/blob/main/embedding_mrtydi_collection_queries_with_bi_encoder.ipynb\" target=\"_parent\"><img src=\"https://colab.research.google.com/assets/colab-badge.svg\" alt=\"Open In Colab\"/></a>"
      ]
    },
    {
      "cell_type": "markdown",
      "source": [
        "Improving Efficient Neural Ranking Models with Cross-Architecture Knowledge Distillation\n",
        "https://arxiv.org/pdf/2010.02666\n",
        "https://github.com/sebastian-hofstaetter/neural-ranking-kd\n",
        "https://zenodo.org/records/4068216\n",
        "https://sbert.net/docs/package_reference/sentence_transformer/losses.html#marginmseloss\n",
        "https://huggingface.co/datasets/unicamp-dl/mmarco\n",
        "instance Temperature Knowledge Distillation https://arxiv.org/pdf/2407.00115\n",
        "https://github.com/Zhengbo-Zhang/ITKD/tree/main\n",
        "ESE: Espresso Sentence Embeddings https://arxiv.org/pdf/2402.14776\n",
        "Making Monolingual Sentence Embeddings Multilingual using Knowledge Distillation https://aclanthology.org/2020.emnlp-main.365.pdf\n",
        "https://github.com/UKPLab/sentence-transformers/blob/master/examples/training/multilingual/make_multilingual.py\n",
        "https://www.sbert.net/examples/applications/retrieve_rerank/README.html\n",
        "https://www.sbert.net/examples/training/multilingual/README.html\n",
        "https://www.sbert.net/examples/training/distillation/README.html?highlight=knowledge%20distillation\n",
        "https://github.com/UKPLab/sentence-transformers/blob/master/examples/training/ms_marco/train_cross-encoder_kd.py\n",
        "https://github.com/UKPLab/sentence-transformers/blob/master/examples/training/distillation/model_distillation.py\n",
        "https://www.sbert.net/docs/sentence_transformer/pretrained_models.html\n",
        "https://www.sbert.net/docs/pretrained-models/msmarco-v5.html\n",
        "https://huggingface.co/sentence-transformers/msmarco-bert-base-dot-v5\n",
        "https://towardsdatascience.com/distillation-of-bert-like-models-the-code-73c31e8c2b0a\n",
        "https://huggingface.co/cross-encoder/ms-marco-MiniLM-L-12-v2?text=I+like+you.+I+love+you\n",
        "FastFormers: Highly Efficient Transformer Models for Natural Language Understanding https://arxiv.org/pdf/2010.13382\n",
        "https://github.com/philschmid/huggingface-sagemaker-workshop-series/blob/9f625c2c261db564532b0f9ec0ef6581c122fec3/workshop_4_distillation_and_acceleration/scripts/knowledge_distillation.py\n",
        "https://github.com/philschmid/huggingface-sagemaker-workshop-series/blob/main/workshop_4_distillation_and_acceleration/lab2_knowledge_distillation.ipynb"
      ],
      "metadata": {
        "id": "iH69lAWbH3hf"
      }
    },
    {
      "cell_type": "code",
      "source": [
        "!pip install -U datasets huggingface-hub -q\n",
        "!pip install sentence_transformers -q"
      ],
      "metadata": {
        "execution": {
          "execution_failed": "2025-01-04T15:01:28.766Z"
        },
        "trusted": true,
        "id": "ODaLIONNH3hk"
      },
      "outputs": [],
      "execution_count": null
    },
    {
      "cell_type": "code",
      "source": [
        "organization_dataset_id=\"hatemestinbejaia/ExperimentDATA_knowledge_distillation_vs_fine_tuning\"\n",
        "collection_name= \"mrtydi-collection-arabic-preprocess-for-araelectra\"\n",
        "queries_name= \"mrtydi-queries-arabic-preprocess-for-araelectra\"\n",
        "qerl_file =\"qrels.test.mrtydi.txt\"\n",
        "bm25_100condidatxquery =\"run.mrtydi.bm25.ar.test.txt\"\n",
        "list_of_models = [ \"hatemestinbejaia/mmarco-Arabic-AraElectra-bi-encoder-NoKD-v1\",\n",
        "              \"hatemestinbejaia/mmarco-Arabic-AraElectra-bi-encoder-KD-v1\",\n",
        "              \"hatemestinbejaia/mmarco-Arabic-AraDPR-bi-encoder-NoKD-v1\",\n",
        "              \"hatemestinbejaia/mmarco-Arabic-AraDPR-bi-encoder-KD-v1\",\n",
        "              \"hatemestinbejaia/mmarco-Arabic-mMiniLML-bi-encoder-NoKD-v1\",\n",
        "              \"hatemestinbejaia/mmarco-Arabic-mMiniLML-bi-encoder-KD-v1\",\n",
        "            ]"
      ],
      "metadata": {
        "trusted": true,
        "execution": {
          "iopub.status.busy": "2025-02-13T16:02:35.271644Z",
          "iopub.execute_input": "2025-02-13T16:02:35.271954Z",
          "iopub.status.idle": "2025-02-13T16:02:35.275947Z",
          "shell.execute_reply.started": "2025-02-13T16:02:35.271929Z",
          "shell.execute_reply": "2025-02-13T16:02:35.275087Z"
        },
        "id": "9Xd-w15dH3hm"
      },
      "outputs": [],
      "execution_count": null
    },
    {
      "cell_type": "code",
      "source": [
        "model_name= list_of_models[5]\n",
        "print(model_name)\n",
        "from sentence_transformers import SentenceTransformer, util\n",
        "model = SentenceTransformer(model_name)\n",
        "model.eval()\n",
        "\n",
        "def embedding(batch):\n",
        "    with torch.no_grad(): batch[\"embedding\"] = model.encode(batch[\"text\"], convert_to_tensor=True, show_progress_bar=False, batch_size=128)\n",
        "    #for i in range(len(batch[\"text\"])):batch[\"text\"][i] = arabert_prep.preprocess(batch[\"text\"][i])\n",
        "    return batch"
      ],
      "metadata": {
        "execution": {
          "iopub.status.busy": "2025-02-13T16:02:40.460079Z",
          "iopub.execute_input": "2025-02-13T16:02:40.460393Z",
          "iopub.status.idle": "2025-02-13T16:03:19.383460Z",
          "shell.execute_reply.started": "2025-02-13T16:02:40.460368Z",
          "shell.execute_reply": "2025-02-13T16:03:19.382776Z"
        },
        "trusted": true,
        "id": "A5AzG1m-H3ho",
        "outputId": "3d62f930-7afb-4e55-9155-85b57f4f37fc",
        "colab": {
          "referenced_widgets": [
            "2549fe3a015749beb414173e02566cb7",
            "9afa1bb76cfa4014851ba661953a5c21",
            "c7660f5757b24d45907cff8c366bb540",
            "af835e2b3d414b8085aade20fe99f1ee",
            "49abd2c521444c829e871010a33606ce",
            "43663d8b15814e2d82c96cd40c2db4d0",
            "ed5ea154e79c414caf5ce5d8c032b0a2",
            "e26466bda888430886ae9000a55c8c07",
            "5d9254b9601f41eb997907f33a5d25b3",
            "7232263fc6be4eecb36d6f2d68e06361"
          ]
        }
      },
      "outputs": [
        {
          "name": "stdout",
          "text": "hatemestinbejaia/mmarco-Arabic-mMiniLML-bi-encoder-KD-v1\n",
          "output_type": "stream"
        },
        {
          "output_type": "display_data",
          "data": {
            "text/plain": "modules.json:   0%|          | 0.00/229 [00:00<?, ?B/s]",
            "application/vnd.jupyter.widget-view+json": {
              "version_major": 2,
              "version_minor": 0,
              "model_id": "2549fe3a015749beb414173e02566cb7"
            }
          },
          "metadata": {}
        },
        {
          "output_type": "display_data",
          "data": {
            "text/plain": "config_sentence_transformers.json:   0%|          | 0.00/199 [00:00<?, ?B/s]",
            "application/vnd.jupyter.widget-view+json": {
              "version_major": 2,
              "version_minor": 0,
              "model_id": "9afa1bb76cfa4014851ba661953a5c21"
            }
          },
          "metadata": {}
        },
        {
          "output_type": "display_data",
          "data": {
            "text/plain": "README.md:   0%|          | 0.00/35.4k [00:00<?, ?B/s]",
            "application/vnd.jupyter.widget-view+json": {
              "version_major": 2,
              "version_minor": 0,
              "model_id": "c7660f5757b24d45907cff8c366bb540"
            }
          },
          "metadata": {}
        },
        {
          "output_type": "display_data",
          "data": {
            "text/plain": "sentence_bert_config.json:   0%|          | 0.00/53.0 [00:00<?, ?B/s]",
            "application/vnd.jupyter.widget-view+json": {
              "version_major": 2,
              "version_minor": 0,
              "model_id": "af835e2b3d414b8085aade20fe99f1ee"
            }
          },
          "metadata": {}
        },
        {
          "output_type": "display_data",
          "data": {
            "text/plain": "config.json:   0%|          | 0.00/701 [00:00<?, ?B/s]",
            "application/vnd.jupyter.widget-view+json": {
              "version_major": 2,
              "version_minor": 0,
              "model_id": "49abd2c521444c829e871010a33606ce"
            }
          },
          "metadata": {}
        },
        {
          "output_type": "display_data",
          "data": {
            "text/plain": "model.safetensors:   0%|          | 0.00/471M [00:00<?, ?B/s]",
            "application/vnd.jupyter.widget-view+json": {
              "version_major": 2,
              "version_minor": 0,
              "model_id": "43663d8b15814e2d82c96cd40c2db4d0"
            }
          },
          "metadata": {}
        },
        {
          "output_type": "display_data",
          "data": {
            "text/plain": "tokenizer_config.json:   0%|          | 0.00/1.42k [00:00<?, ?B/s]",
            "application/vnd.jupyter.widget-view+json": {
              "version_major": 2,
              "version_minor": 0,
              "model_id": "ed5ea154e79c414caf5ce5d8c032b0a2"
            }
          },
          "metadata": {}
        },
        {
          "output_type": "display_data",
          "data": {
            "text/plain": "tokenizer.json:   0%|          | 0.00/17.1M [00:00<?, ?B/s]",
            "application/vnd.jupyter.widget-view+json": {
              "version_major": 2,
              "version_minor": 0,
              "model_id": "e26466bda888430886ae9000a55c8c07"
            }
          },
          "metadata": {}
        },
        {
          "output_type": "display_data",
          "data": {
            "text/plain": "special_tokens_map.json:   0%|          | 0.00/964 [00:00<?, ?B/s]",
            "application/vnd.jupyter.widget-view+json": {
              "version_major": 2,
              "version_minor": 0,
              "model_id": "5d9254b9601f41eb997907f33a5d25b3"
            }
          },
          "metadata": {}
        },
        {
          "output_type": "display_data",
          "data": {
            "text/plain": "1_Pooling%2Fconfig.json:   0%|          | 0.00/296 [00:00<?, ?B/s]",
            "application/vnd.jupyter.widget-view+json": {
              "version_major": 2,
              "version_minor": 0,
              "model_id": "7232263fc6be4eecb36d6f2d68e06361"
            }
          },
          "metadata": {}
        }
      ],
      "execution_count": null
    },
    {
      "cell_type": "code",
      "source": [
        "from datasets import load_dataset\n",
        "datasetC = load_dataset(organization_dataset_id, collection_name, trust_remote_code=True)\n",
        "print(datasetC['train'][100])\n",
        "print(datasetC)\n",
        "import torch\n",
        "datasetC= datasetC.map(embedding, batched=True, remove_columns=[\"text\"])"
      ],
      "metadata": {
        "execution": {
          "execution_failed": "2025-01-04T15:01:28.771Z"
        },
        "trusted": true,
        "id": "TqObm3mBH3hq"
      },
      "outputs": [],
      "execution_count": null
    },
    {
      "cell_type": "code",
      "source": [
        "from datasets import load_dataset\n",
        "datasetQ = load_dataset(organization_dataset_id, queries_name, trust_remote_code=True)\n",
        "datasetQ = datasetQ[\"train\"]\n",
        "print(datasetQ)\n",
        "print(datasetQ[0])\n",
        "import torch\n",
        "datasetQ= datasetQ.map(embedding, batched=True)\n",
        "datasetQ"
      ],
      "metadata": {
        "trusted": true,
        "execution": {
          "iopub.status.busy": "2025-02-13T16:04:33.490667Z",
          "iopub.execute_input": "2025-02-13T16:04:33.491058Z",
          "iopub.status.idle": "2025-02-13T16:04:40.780166Z",
          "shell.execute_reply.started": "2025-02-13T16:04:33.491028Z",
          "shell.execute_reply": "2025-02-13T16:04:40.779442Z"
        },
        "id": "4trADvDiH3hs",
        "outputId": "bf7d522e-1275-4497-d1bb-8a9b7d3107a3"
      },
      "outputs": [
        {
          "name": "stdout",
          "text": "Dataset({\n    features: ['id', 'text'],\n    num_rows: 1081\n})\n{'id': 15513, 'text': 'كم عدد مرات فوز الأوروغواي ببطولة كاس العالم لكرو القدم ؟'}\n",
          "output_type": "stream"
        },
        {
          "execution_count": 5,
          "output_type": "execute_result",
          "data": {
            "text/plain": "Dataset({\n    features: ['id', 'text', 'embedding'],\n    num_rows: 1081\n})"
          },
          "metadata": {}
        }
      ],
      "execution_count": null
    },
    {
      "cell_type": "code",
      "source": [
        "# uncomment to push to yours huggingface repository\n",
        "\"\"\"\n",
        "import huggingface_hub\n",
        "hf = huggingface_hub.HfFolder()\n",
        "access_token = \"your huggingface access token\"\n",
        "hf.save_token(access_token)\n",
        "datasetQ.push_to_hub(organization_dataset_id, \"mrTydi-queries-Arabic-embedding-\"+model_name.split(\"/\")[1])\n",
        "datasetC.push_to_hub(organization_dataset_id, \"mrTydi-collection-Arabic-embedding-\"+model_name.split(\"/\")[1])\n",
        "\"\"\""
      ],
      "metadata": {
        "trusted": true,
        "execution": {
          "execution_failed": "2025-01-04T15:01:28.773Z"
        },
        "id": "obwp7yvKH3hu"
      },
      "outputs": [],
      "execution_count": null
    }
  ]
}